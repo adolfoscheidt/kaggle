{
 "cells": [
  {
   "cell_type": "markdown",
   "id": "b14e6bc6",
   "metadata": {
    "papermill": {
     "duration": 0.024655,
     "end_time": "2022-02-27T17:50:38.066279",
     "exception": false,
     "start_time": "2022-02-27T17:50:38.041624",
     "status": "completed"
    },
    "tags": []
   },
   "source": [
    "**This notebook is an exercise in the [Pandas](https://www.kaggle.com/learn/pandas) course.  You can reference the tutorial at [this link](https://www.kaggle.com/residentmario/grouping-and-sorting).**\n",
    "\n",
    "---\n"
   ]
  },
  {
   "cell_type": "markdown",
   "id": "dac55ba8",
   "metadata": {
    "papermill": {
     "duration": 0.022151,
     "end_time": "2022-02-27T17:50:38.111260",
     "exception": false,
     "start_time": "2022-02-27T17:50:38.089109",
     "status": "completed"
    },
    "tags": []
   },
   "source": [
    "# Introduction\n",
    "\n",
    "In these exercises we'll apply groupwise analysis to our dataset.\n",
    "\n",
    "Run the code cell below to load the data before running the exercises."
   ]
  },
  {
   "cell_type": "code",
   "execution_count": 1,
   "id": "1e74ef07",
   "metadata": {
    "execution": {
     "iopub.execute_input": "2022-02-27T17:50:38.161884Z",
     "iopub.status.busy": "2022-02-27T17:50:38.160694Z",
     "iopub.status.idle": "2022-02-27T17:50:41.293888Z",
     "shell.execute_reply": "2022-02-27T17:50:41.294633Z",
     "shell.execute_reply.started": "2022-02-27T17:38:50.593763Z"
    },
    "papermill": {
     "duration": 3.16067,
     "end_time": "2022-02-27T17:50:41.295020",
     "exception": false,
     "start_time": "2022-02-27T17:50:38.134350",
     "status": "completed"
    },
    "tags": []
   },
   "outputs": [
    {
     "name": "stdout",
     "output_type": "stream",
     "text": [
      "Setup complete.\n"
     ]
    }
   ],
   "source": [
    "import pandas as pd\n",
    "\n",
    "reviews = pd.read_csv(\"../input/wine-reviews/winemag-data-130k-v2.csv\", index_col=0)\n",
    "#pd.set_option(\"display.max_rows\", 5)\n",
    "\n",
    "from learntools.core import binder; binder.bind(globals())\n",
    "from learntools.pandas.grouping_and_sorting import *\n",
    "print(\"Setup complete.\")"
   ]
  },
  {
   "cell_type": "markdown",
   "id": "15955055",
   "metadata": {
    "papermill": {
     "duration": 0.022642,
     "end_time": "2022-02-27T17:50:41.341915",
     "exception": false,
     "start_time": "2022-02-27T17:50:41.319273",
     "status": "completed"
    },
    "tags": []
   },
   "source": [
    "# Exercises"
   ]
  },
  {
   "cell_type": "markdown",
   "id": "74ce5d9d",
   "metadata": {
    "papermill": {
     "duration": 0.022619,
     "end_time": "2022-02-27T17:50:41.387413",
     "exception": false,
     "start_time": "2022-02-27T17:50:41.364794",
     "status": "completed"
    },
    "tags": []
   },
   "source": [
    "## 1.\n",
    "Who are the most common wine reviewers in the dataset? Create a `Series` whose index is the `taster_twitter_handle` category from the dataset, and whose values count how many reviews each person wrote."
   ]
  },
  {
   "cell_type": "code",
   "execution_count": 2,
   "id": "437d1151",
   "metadata": {
    "execution": {
     "iopub.execute_input": "2022-02-27T17:50:41.437071Z",
     "iopub.status.busy": "2022-02-27T17:50:41.436473Z",
     "iopub.status.idle": "2022-02-27T17:50:41.439691Z",
     "shell.execute_reply": "2022-02-27T17:50:41.440299Z",
     "shell.execute_reply.started": "2022-02-27T14:56:19.618966Z"
    },
    "papermill": {
     "duration": 0.029973,
     "end_time": "2022-02-27T17:50:41.440476",
     "exception": false,
     "start_time": "2022-02-27T17:50:41.410503",
     "status": "completed"
    },
    "tags": []
   },
   "outputs": [],
   "source": [
    "# my_df = reviews.groupby(['country', 'province'])['price'].agg([len, min, max]).head(10)\n",
    "# my_df\n",
    "# my_df.reset_index()"
   ]
  },
  {
   "cell_type": "code",
   "execution_count": 3,
   "id": "ca9da53d",
   "metadata": {
    "execution": {
     "iopub.execute_input": "2022-02-27T17:50:41.490263Z",
     "iopub.status.busy": "2022-02-27T17:50:41.489639Z",
     "iopub.status.idle": "2022-02-27T17:50:41.519018Z",
     "shell.execute_reply": "2022-02-27T17:50:41.518527Z",
     "shell.execute_reply.started": "2022-02-27T15:05:56.015499Z"
    },
    "papermill": {
     "duration": 0.055216,
     "end_time": "2022-02-27T17:50:41.519186",
     "exception": false,
     "start_time": "2022-02-27T17:50:41.463970",
     "status": "completed"
    },
    "tags": []
   },
   "outputs": [
    {
     "data": {
      "application/javascript": [
       "parent.postMessage({\"jupyterEvent\": \"custom.exercise_interaction\", \"data\": {\"outcomeType\": 1, \"valueTowardsCompletion\": 0.16666666666666666, \"interactionType\": 1, \"questionType\": 1, \"questionId\": \"1_ReviewsWritten\", \"learnToolsVersion\": \"0.3.4\", \"failureMessage\": \"\", \"exceptionClass\": \"\", \"trace\": \"\"}}, \"*\")"
      ],
      "text/plain": [
       "<IPython.core.display.Javascript object>"
      ]
     },
     "metadata": {},
     "output_type": "display_data"
    },
    {
     "data": {
      "text/markdown": [
       "<span style=\"color:#33cc33\">Correct:</span> \n",
       "\n",
       "\n",
       "```python\n",
       "reviews_written = reviews.groupby('taster_twitter_handle').size()\n",
       "```\n",
       "or\n",
       "```python\n",
       "reviews_written = reviews.groupby('taster_twitter_handle').taster_twitter_handle.count()\n",
       "```\n"
      ],
      "text/plain": [
       "Correct: \n",
       "\n",
       "\n",
       "```python\n",
       "reviews_written = reviews.groupby('taster_twitter_handle').size()\n",
       "```\n",
       "or\n",
       "```python\n",
       "reviews_written = reviews.groupby('taster_twitter_handle').taster_twitter_handle.count()\n",
       "```"
      ]
     },
     "metadata": {},
     "output_type": "display_data"
    }
   ],
   "source": [
    "# Your code here\n",
    "reviews_written = reviews.groupby('taster_twitter_handle').size()\n",
    "# reviews_written = reviews.groupby('taster_twitter_handle')['taster_twitter_handle'].count()\n",
    "# reviews_written = reviews['taster_twitter_handle'].value_counts().sort_index()\n",
    "\n",
    "# Check your answer\n",
    "q1.check()"
   ]
  },
  {
   "cell_type": "code",
   "execution_count": 4,
   "id": "e85e4313",
   "metadata": {
    "execution": {
     "iopub.execute_input": "2022-02-27T17:50:41.573863Z",
     "iopub.status.busy": "2022-02-27T17:50:41.573219Z",
     "iopub.status.idle": "2022-02-27T17:50:41.575912Z",
     "shell.execute_reply": "2022-02-27T17:50:41.575386Z"
    },
    "papermill": {
     "duration": 0.032491,
     "end_time": "2022-02-27T17:50:41.576058",
     "exception": false,
     "start_time": "2022-02-27T17:50:41.543567",
     "status": "completed"
    },
    "tags": []
   },
   "outputs": [],
   "source": [
    "#q1.hint()\n",
    "#q1.solution()"
   ]
  },
  {
   "cell_type": "markdown",
   "id": "135c1fbc",
   "metadata": {
    "papermill": {
     "duration": 0.024696,
     "end_time": "2022-02-27T17:50:41.626006",
     "exception": false,
     "start_time": "2022-02-27T17:50:41.601310",
     "status": "completed"
    },
    "tags": []
   },
   "source": [
    "## 2.\n",
    "What is the best wine I can buy for a given amount of money? Create a `Series` whose index is wine prices and whose values is the maximum number of points a wine costing that much was given in a review. Sort the values by price, ascending (so that `4.0` dollars is at the top and `3300.0` dollars is at the bottom)."
   ]
  },
  {
   "cell_type": "code",
   "execution_count": 5,
   "id": "dacc7f3e",
   "metadata": {
    "execution": {
     "iopub.execute_input": "2022-02-27T17:50:41.682513Z",
     "iopub.status.busy": "2022-02-27T17:50:41.681767Z",
     "iopub.status.idle": "2022-02-27T17:50:41.691635Z",
     "shell.execute_reply": "2022-02-27T17:50:41.692140Z",
     "shell.execute_reply.started": "2022-02-27T15:10:24.310484Z"
    },
    "papermill": {
     "duration": 0.041369,
     "end_time": "2022-02-27T17:50:41.692306",
     "exception": false,
     "start_time": "2022-02-27T17:50:41.650937",
     "status": "completed"
    },
    "tags": []
   },
   "outputs": [
    {
     "data": {
      "application/javascript": [
       "parent.postMessage({\"jupyterEvent\": \"custom.exercise_interaction\", \"data\": {\"outcomeType\": 1, \"valueTowardsCompletion\": 0.16666666666666666, \"interactionType\": 1, \"questionType\": 1, \"questionId\": \"2_BestRatingPerPrice\", \"learnToolsVersion\": \"0.3.4\", \"failureMessage\": \"\", \"exceptionClass\": \"\", \"trace\": \"\"}}, \"*\")"
      ],
      "text/plain": [
       "<IPython.core.display.Javascript object>"
      ]
     },
     "metadata": {},
     "output_type": "display_data"
    },
    {
     "data": {
      "text/markdown": [
       "<span style=\"color:#33cc33\">Correct</span>"
      ],
      "text/plain": [
       "Correct"
      ]
     },
     "metadata": {},
     "output_type": "display_data"
    }
   ],
   "source": [
    "best_rating_per_price = reviews.groupby('price')[\"points\"].max()\n",
    "\n",
    "# Check your answer\n",
    "q2.check()"
   ]
  },
  {
   "cell_type": "code",
   "execution_count": 6,
   "id": "fc097a89",
   "metadata": {
    "execution": {
     "iopub.execute_input": "2022-02-27T17:50:41.749309Z",
     "iopub.status.busy": "2022-02-27T17:50:41.746876Z",
     "iopub.status.idle": "2022-02-27T17:50:41.753030Z",
     "shell.execute_reply": "2022-02-27T17:50:41.753648Z",
     "shell.execute_reply.started": "2022-02-27T15:10:29.153598Z"
    },
    "papermill": {
     "duration": 0.035572,
     "end_time": "2022-02-27T17:50:41.753838",
     "exception": false,
     "start_time": "2022-02-27T17:50:41.718266",
     "status": "completed"
    },
    "tags": []
   },
   "outputs": [
    {
     "data": {
      "application/javascript": [
       "parent.postMessage({\"jupyterEvent\": \"custom.exercise_interaction\", \"data\": {\"interactionType\": 3, \"questionType\": 1, \"questionId\": \"2_BestRatingPerPrice\", \"learnToolsVersion\": \"0.3.4\", \"valueTowardsCompletion\": 0.0, \"failureMessage\": \"\", \"exceptionClass\": \"\", \"trace\": \"\", \"outcomeType\": 4}}, \"*\")"
      ],
      "text/plain": [
       "<IPython.core.display.Javascript object>"
      ]
     },
     "metadata": {},
     "output_type": "display_data"
    },
    {
     "data": {
      "text/markdown": [
       "<span style=\"color:#33cc99\">Solution:</span> \n",
       "```python\n",
       "best_rating_per_price = reviews.groupby('price')['points'].max().sort_index()\n",
       "```"
      ],
      "text/plain": [
       "Solution: \n",
       "```python\n",
       "best_rating_per_price = reviews.groupby('price')['points'].max().sort_index()\n",
       "```"
      ]
     },
     "metadata": {},
     "output_type": "display_data"
    }
   ],
   "source": [
    "#q2.hint()\n",
    "q2.solution()"
   ]
  },
  {
   "cell_type": "markdown",
   "id": "2ce94f02",
   "metadata": {
    "papermill": {
     "duration": 0.026337,
     "end_time": "2022-02-27T17:50:41.807257",
     "exception": false,
     "start_time": "2022-02-27T17:50:41.780920",
     "status": "completed"
    },
    "tags": []
   },
   "source": [
    "## 3.\n",
    "What are the minimum and maximum prices for each `variety` of wine? Create a `DataFrame` whose index is the `variety` category from the dataset and whose values are the `min` and `max` values thereof."
   ]
  },
  {
   "cell_type": "code",
   "execution_count": 7,
   "id": "8aee46f9",
   "metadata": {
    "execution": {
     "iopub.execute_input": "2022-02-27T17:50:41.886998Z",
     "iopub.status.busy": "2022-02-27T17:50:41.886340Z",
     "iopub.status.idle": "2022-02-27T17:50:41.897751Z",
     "shell.execute_reply": "2022-02-27T17:50:41.897198Z",
     "shell.execute_reply.started": "2022-02-27T15:12:33.176354Z"
    },
    "papermill": {
     "duration": 0.063748,
     "end_time": "2022-02-27T17:50:41.897899",
     "exception": false,
     "start_time": "2022-02-27T17:50:41.834151",
     "status": "completed"
    },
    "tags": []
   },
   "outputs": [
    {
     "data": {
      "application/javascript": [
       "parent.postMessage({\"jupyterEvent\": \"custom.exercise_interaction\", \"data\": {\"outcomeType\": 1, \"valueTowardsCompletion\": 0.16666666666666666, \"interactionType\": 1, \"questionType\": 1, \"questionId\": \"3_PriceExtremes\", \"learnToolsVersion\": \"0.3.4\", \"failureMessage\": \"\", \"exceptionClass\": \"\", \"trace\": \"\"}}, \"*\")"
      ],
      "text/plain": [
       "<IPython.core.display.Javascript object>"
      ]
     },
     "metadata": {},
     "output_type": "display_data"
    },
    {
     "data": {
      "text/markdown": [
       "<span style=\"color:#33cc33\">Correct</span>"
      ],
      "text/plain": [
       "Correct"
      ]
     },
     "metadata": {},
     "output_type": "display_data"
    }
   ],
   "source": [
    "price_extremes = reviews.groupby('variety')['price'].agg([min, max])\n",
    "\n",
    "# Check your answer\n",
    "q3.check()"
   ]
  },
  {
   "cell_type": "code",
   "execution_count": 8,
   "id": "a2fadca8",
   "metadata": {
    "execution": {
     "iopub.execute_input": "2022-02-27T17:50:41.959050Z",
     "iopub.status.busy": "2022-02-27T17:50:41.958426Z",
     "iopub.status.idle": "2022-02-27T17:50:41.960971Z",
     "shell.execute_reply": "2022-02-27T17:50:41.961448Z",
     "shell.execute_reply.started": "2022-02-27T15:12:40.483769Z"
    },
    "papermill": {
     "duration": 0.035654,
     "end_time": "2022-02-27T17:50:41.961621",
     "exception": false,
     "start_time": "2022-02-27T17:50:41.925967",
     "status": "completed"
    },
    "tags": []
   },
   "outputs": [],
   "source": [
    "#q3.hint()\n",
    "# q3.solution()"
   ]
  },
  {
   "cell_type": "markdown",
   "id": "16ad7c99",
   "metadata": {
    "papermill": {
     "duration": 0.0276,
     "end_time": "2022-02-27T17:50:42.017251",
     "exception": false,
     "start_time": "2022-02-27T17:50:41.989651",
     "status": "completed"
    },
    "tags": []
   },
   "source": [
    "## 4.\n",
    "What are the most expensive wine varieties? Create a variable `sorted_varieties` containing a copy of the dataframe from the previous question where varieties are sorted in descending order based on minimum price, then on maximum price (to break ties)."
   ]
  },
  {
   "cell_type": "code",
   "execution_count": 9,
   "id": "e678c1b5",
   "metadata": {
    "execution": {
     "iopub.execute_input": "2022-02-27T17:50:42.077140Z",
     "iopub.status.busy": "2022-02-27T17:50:42.076530Z",
     "iopub.status.idle": "2022-02-27T17:50:42.085937Z",
     "shell.execute_reply": "2022-02-27T17:50:42.086548Z",
     "shell.execute_reply.started": "2022-02-27T15:31:00.849194Z"
    },
    "papermill": {
     "duration": 0.040989,
     "end_time": "2022-02-27T17:50:42.086714",
     "exception": false,
     "start_time": "2022-02-27T17:50:42.045725",
     "status": "completed"
    },
    "tags": []
   },
   "outputs": [
    {
     "data": {
      "application/javascript": [
       "parent.postMessage({\"jupyterEvent\": \"custom.exercise_interaction\", \"data\": {\"outcomeType\": 1, \"valueTowardsCompletion\": 0.16666666666666666, \"interactionType\": 1, \"questionType\": 1, \"questionId\": \"4_SortedVarieties\", \"learnToolsVersion\": \"0.3.4\", \"failureMessage\": \"\", \"exceptionClass\": \"\", \"trace\": \"\"}}, \"*\")"
      ],
      "text/plain": [
       "<IPython.core.display.Javascript object>"
      ]
     },
     "metadata": {},
     "output_type": "display_data"
    },
    {
     "data": {
      "text/markdown": [
       "<span style=\"color:#33cc33\">Correct</span>"
      ],
      "text/plain": [
       "Correct"
      ]
     },
     "metadata": {},
     "output_type": "display_data"
    }
   ],
   "source": [
    "sorted_varieties = price_extremes.sort_values(by=['min', 'max'], ascending=False)\n",
    "\n",
    "\n",
    "# Check your answer\n",
    "q4.check()"
   ]
  },
  {
   "cell_type": "code",
   "execution_count": 10,
   "id": "8d4741bf",
   "metadata": {
    "execution": {
     "iopub.execute_input": "2022-02-27T17:50:42.149317Z",
     "iopub.status.busy": "2022-02-27T17:50:42.148622Z",
     "iopub.status.idle": "2022-02-27T17:50:42.151680Z",
     "shell.execute_reply": "2022-02-27T17:50:42.152168Z",
     "shell.execute_reply.started": "2022-02-27T15:28:34.359466Z"
    },
    "papermill": {
     "duration": 0.03656,
     "end_time": "2022-02-27T17:50:42.152329",
     "exception": false,
     "start_time": "2022-02-27T17:50:42.115769",
     "status": "completed"
    },
    "tags": []
   },
   "outputs": [],
   "source": [
    "# q4.hint()\n",
    "# q4.solution()"
   ]
  },
  {
   "cell_type": "markdown",
   "id": "7bf18b35",
   "metadata": {
    "papermill": {
     "duration": 0.029015,
     "end_time": "2022-02-27T17:50:42.210459",
     "exception": false,
     "start_time": "2022-02-27T17:50:42.181444",
     "status": "completed"
    },
    "tags": []
   },
   "source": [
    "## 5.\n",
    "Create a `Series` whose index is reviewers and whose values is the average review score given out by that reviewer. Hint: you will need the `taster_name` and `points` columns."
   ]
  },
  {
   "cell_type": "code",
   "execution_count": 11,
   "id": "3fb19781",
   "metadata": {
    "execution": {
     "iopub.execute_input": "2022-02-27T17:50:42.290749Z",
     "iopub.status.busy": "2022-02-27T17:50:42.290110Z",
     "iopub.status.idle": "2022-02-27T17:50:42.297788Z",
     "shell.execute_reply": "2022-02-27T17:50:42.298319Z",
     "shell.execute_reply.started": "2022-02-27T17:40:46.546994Z"
    },
    "papermill": {
     "duration": 0.058716,
     "end_time": "2022-02-27T17:50:42.298492",
     "exception": false,
     "start_time": "2022-02-27T17:50:42.239776",
     "status": "completed"
    },
    "tags": []
   },
   "outputs": [
    {
     "data": {
      "application/javascript": [
       "parent.postMessage({\"jupyterEvent\": \"custom.exercise_interaction\", \"data\": {\"outcomeType\": 1, \"valueTowardsCompletion\": 0.16666666666666666, \"interactionType\": 1, \"questionType\": 1, \"questionId\": \"5_ReviewerMeanRatings\", \"learnToolsVersion\": \"0.3.4\", \"failureMessage\": \"\", \"exceptionClass\": \"\", \"trace\": \"\"}}, \"*\")"
      ],
      "text/plain": [
       "<IPython.core.display.Javascript object>"
      ]
     },
     "metadata": {},
     "output_type": "display_data"
    },
    {
     "data": {
      "text/markdown": [
       "<span style=\"color:#33cc33\">Correct</span>"
      ],
      "text/plain": [
       "Correct"
      ]
     },
     "metadata": {},
     "output_type": "display_data"
    }
   ],
   "source": [
    "reviewer_mean_ratings = reviews.groupby('taster_name')['points'].mean()\n",
    "# reviewer_mean_ratings\n",
    "\n",
    "# Check your answer\n",
    "q5.check()"
   ]
  },
  {
   "cell_type": "code",
   "execution_count": 12,
   "id": "5ec32d38",
   "metadata": {
    "execution": {
     "iopub.execute_input": "2022-02-27T17:50:42.363913Z",
     "iopub.status.busy": "2022-02-27T17:50:42.363283Z",
     "iopub.status.idle": "2022-02-27T17:50:42.365882Z",
     "shell.execute_reply": "2022-02-27T17:50:42.366436Z",
     "shell.execute_reply.started": "2022-02-27T17:40:54.957506Z"
    },
    "papermill": {
     "duration": 0.036843,
     "end_time": "2022-02-27T17:50:42.366603",
     "exception": false,
     "start_time": "2022-02-27T17:50:42.329760",
     "status": "completed"
    },
    "tags": []
   },
   "outputs": [],
   "source": [
    "#q5.hint()\n",
    "# q5.solution()"
   ]
  },
  {
   "cell_type": "markdown",
   "id": "be91cb17",
   "metadata": {
    "papermill": {
     "duration": 0.030366,
     "end_time": "2022-02-27T17:50:42.427500",
     "exception": false,
     "start_time": "2022-02-27T17:50:42.397134",
     "status": "completed"
    },
    "tags": []
   },
   "source": [
    "Are there significant differences in the average scores assigned by the various reviewers? Run the cell below to use the `describe()` method to see a summary of the range of values."
   ]
  },
  {
   "cell_type": "code",
   "execution_count": 13,
   "id": "2dc42ac2",
   "metadata": {
    "execution": {
     "iopub.execute_input": "2022-02-27T17:50:42.492563Z",
     "iopub.status.busy": "2022-02-27T17:50:42.491705Z",
     "iopub.status.idle": "2022-02-27T17:50:42.503816Z",
     "shell.execute_reply": "2022-02-27T17:50:42.504415Z",
     "shell.execute_reply.started": "2022-02-27T17:41:10.496255Z"
    },
    "papermill": {
     "duration": 0.046345,
     "end_time": "2022-02-27T17:50:42.504594",
     "exception": false,
     "start_time": "2022-02-27T17:50:42.458249",
     "status": "completed"
    },
    "tags": []
   },
   "outputs": [
    {
     "data": {
      "text/plain": [
       "count    19.000000\n",
       "mean     88.233026\n",
       "std       1.243610\n",
       "min      85.855422\n",
       "25%      87.323501\n",
       "50%      88.536235\n",
       "75%      88.975256\n",
       "max      90.562551\n",
       "Name: points, dtype: float64"
      ]
     },
     "execution_count": 13,
     "metadata": {},
     "output_type": "execute_result"
    }
   ],
   "source": [
    "reviewer_mean_ratings.describe()"
   ]
  },
  {
   "cell_type": "markdown",
   "id": "c750c712",
   "metadata": {
    "papermill": {
     "duration": 0.03152,
     "end_time": "2022-02-27T17:50:42.567590",
     "exception": false,
     "start_time": "2022-02-27T17:50:42.536070",
     "status": "completed"
    },
    "tags": []
   },
   "source": [
    "## 6.\n",
    "What combination of countries and varieties are most common? Create a `Series` whose index is a `MultiIndex`of `{country, variety}` pairs. For example, a pinot noir produced in the US should map to `{\"US\", \"Pinot Noir\"}`. Sort the values in the `Series` in descending order based on wine count."
   ]
  },
  {
   "cell_type": "code",
   "execution_count": 14,
   "id": "e46d5da8",
   "metadata": {
    "execution": {
     "iopub.execute_input": "2022-02-27T17:50:42.633895Z",
     "iopub.status.busy": "2022-02-27T17:50:42.632870Z",
     "iopub.status.idle": "2022-02-27T17:50:42.682747Z",
     "shell.execute_reply": "2022-02-27T17:50:42.683285Z",
     "shell.execute_reply.started": "2022-02-27T17:49:52.991076Z"
    },
    "papermill": {
     "duration": 0.084832,
     "end_time": "2022-02-27T17:50:42.683486",
     "exception": false,
     "start_time": "2022-02-27T17:50:42.598654",
     "status": "completed"
    },
    "tags": []
   },
   "outputs": [
    {
     "data": {
      "application/javascript": [
       "parent.postMessage({\"jupyterEvent\": \"custom.exercise_interaction\", \"data\": {\"outcomeType\": 1, \"valueTowardsCompletion\": 0.16666666666666666, \"interactionType\": 1, \"questionType\": 1, \"questionId\": \"6_GroupbyCountryVariety\", \"learnToolsVersion\": \"0.3.4\", \"failureMessage\": \"\", \"exceptionClass\": \"\", \"trace\": \"\"}}, \"*\")"
      ],
      "text/plain": [
       "<IPython.core.display.Javascript object>"
      ]
     },
     "metadata": {},
     "output_type": "display_data"
    },
    {
     "data": {
      "text/markdown": [
       "<span style=\"color:#33cc33\">Correct</span>"
      ],
      "text/plain": [
       "Correct"
      ]
     },
     "metadata": {},
     "output_type": "display_data"
    }
   ],
   "source": [
    "country_variety_counts = reviews.groupby(['country', 'variety'])[\"price\"].size().sort_values(ascending=False)\n",
    "\n",
    "\n",
    "# Check your answer\n",
    "q6.check()"
   ]
  },
  {
   "cell_type": "code",
   "execution_count": 15,
   "id": "b148a3d2",
   "metadata": {
    "execution": {
     "iopub.execute_input": "2022-02-27T17:50:42.753589Z",
     "iopub.status.busy": "2022-02-27T17:50:42.752886Z",
     "iopub.status.idle": "2022-02-27T17:50:42.754712Z",
     "shell.execute_reply": "2022-02-27T17:50:42.755222Z",
     "shell.execute_reply.started": "2022-02-27T17:45:17.849116Z"
    },
    "papermill": {
     "duration": 0.039702,
     "end_time": "2022-02-27T17:50:42.755412",
     "exception": false,
     "start_time": "2022-02-27T17:50:42.715710",
     "status": "completed"
    },
    "tags": []
   },
   "outputs": [],
   "source": [
    "# q6.hint()\n",
    "# q6.solution()"
   ]
  },
  {
   "cell_type": "markdown",
   "id": "7dc9fad2",
   "metadata": {
    "papermill": {
     "duration": 0.032179,
     "end_time": "2022-02-27T17:50:42.820332",
     "exception": false,
     "start_time": "2022-02-27T17:50:42.788153",
     "status": "completed"
    },
    "tags": []
   },
   "source": [
    "# Keep going\n",
    "\n",
    "Move on to the [**data types and missing data**](https://www.kaggle.com/residentmario/data-types-and-missing-values)."
   ]
  },
  {
   "cell_type": "markdown",
   "id": "01774883",
   "metadata": {
    "papermill": {
     "duration": 0.032157,
     "end_time": "2022-02-27T17:50:42.884866",
     "exception": false,
     "start_time": "2022-02-27T17:50:42.852709",
     "status": "completed"
    },
    "tags": []
   },
   "source": [
    "---\n",
    "\n",
    "\n",
    "\n",
    "\n",
    "*Have questions or comments? Visit the [course discussion forum](https://www.kaggle.com/learn/pandas/discussion) to chat with other learners.*"
   ]
  }
 ],
 "metadata": {
  "kernelspec": {
   "display_name": "Python 3",
   "language": "python",
   "name": "python3"
  },
  "language_info": {
   "codemirror_mode": {
    "name": "ipython",
    "version": 3
   },
   "file_extension": ".py",
   "mimetype": "text/x-python",
   "name": "python",
   "nbconvert_exporter": "python",
   "pygments_lexer": "ipython3",
   "version": "3.7.12"
  },
  "papermill": {
   "default_parameters": {},
   "duration": 15.921211,
   "end_time": "2022-02-27T17:50:43.729220",
   "environment_variables": {},
   "exception": null,
   "input_path": "__notebook__.ipynb",
   "output_path": "__notebook__.ipynb",
   "parameters": {},
   "start_time": "2022-02-27T17:50:27.808009",
   "version": "2.3.3"
  }
 },
 "nbformat": 4,
 "nbformat_minor": 5
}
