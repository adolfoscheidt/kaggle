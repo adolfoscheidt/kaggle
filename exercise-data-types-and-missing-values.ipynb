{
 "cells": [
  {
   "cell_type": "markdown",
   "id": "d29ca2c0",
   "metadata": {
    "papermill": {
     "duration": 0.015981,
     "end_time": "2022-02-27T18:32:27.839154",
     "exception": false,
     "start_time": "2022-02-27T18:32:27.823173",
     "status": "completed"
    },
    "tags": []
   },
   "source": [
    "**This notebook is an exercise in the [Pandas](https://www.kaggle.com/learn/pandas) course.  You can reference the tutorial at [this link](https://www.kaggle.com/residentmario/data-types-and-missing-values).**\n",
    "\n",
    "---\n"
   ]
  },
  {
   "cell_type": "markdown",
   "id": "2ed27413",
   "metadata": {
    "papermill": {
     "duration": 0.014623,
     "end_time": "2022-02-27T18:32:27.869745",
     "exception": false,
     "start_time": "2022-02-27T18:32:27.855122",
     "status": "completed"
    },
    "tags": []
   },
   "source": [
    "# Introduction\n",
    "\n",
    "Run the following cell to load your data and some utility functions."
   ]
  },
  {
   "cell_type": "code",
   "execution_count": 1,
   "id": "f6877afe",
   "metadata": {
    "execution": {
     "iopub.execute_input": "2022-02-27T18:32:27.910493Z",
     "iopub.status.busy": "2022-02-27T18:32:27.909785Z",
     "iopub.status.idle": "2022-02-27T18:32:30.906071Z",
     "shell.execute_reply": "2022-02-27T18:32:30.906646Z",
     "shell.execute_reply.started": "2022-02-27T18:10:51.396543Z"
    },
    "papermill": {
     "duration": 3.022245,
     "end_time": "2022-02-27T18:32:30.906943",
     "exception": false,
     "start_time": "2022-02-27T18:32:27.884698",
     "status": "completed"
    },
    "tags": []
   },
   "outputs": [
    {
     "name": "stdout",
     "output_type": "stream",
     "text": [
      "Setup complete.\n"
     ]
    }
   ],
   "source": [
    "import pandas as pd\n",
    "\n",
    "reviews = pd.read_csv(\"../input/wine-reviews/winemag-data-130k-v2.csv\", index_col=0)\n",
    "\n",
    "from learntools.core import binder; binder.bind(globals())\n",
    "from learntools.pandas.data_types_and_missing_data import *\n",
    "print(\"Setup complete.\")"
   ]
  },
  {
   "cell_type": "markdown",
   "id": "9ed2fcc3",
   "metadata": {
    "papermill": {
     "duration": 0.015073,
     "end_time": "2022-02-27T18:32:30.938037",
     "exception": false,
     "start_time": "2022-02-27T18:32:30.922964",
     "status": "completed"
    },
    "tags": []
   },
   "source": [
    "# Exercises"
   ]
  },
  {
   "cell_type": "markdown",
   "id": "14826534",
   "metadata": {
    "papermill": {
     "duration": 0.01504,
     "end_time": "2022-02-27T18:32:30.968324",
     "exception": false,
     "start_time": "2022-02-27T18:32:30.953284",
     "status": "completed"
    },
    "tags": []
   },
   "source": [
    "## 1. \n",
    "What is the data type of the `points` column in the dataset?"
   ]
  },
  {
   "cell_type": "code",
   "execution_count": 2,
   "id": "e1bb6b8a",
   "metadata": {
    "execution": {
     "iopub.execute_input": "2022-02-27T18:32:31.007857Z",
     "iopub.status.busy": "2022-02-27T18:32:31.007167Z",
     "iopub.status.idle": "2022-02-27T18:32:31.013751Z",
     "shell.execute_reply": "2022-02-27T18:32:31.013186Z",
     "shell.execute_reply.started": "2022-02-27T18:11:35.094709Z"
    },
    "papermill": {
     "duration": 0.030098,
     "end_time": "2022-02-27T18:32:31.013889",
     "exception": false,
     "start_time": "2022-02-27T18:32:30.983791",
     "status": "completed"
    },
    "tags": []
   },
   "outputs": [
    {
     "data": {
      "application/javascript": [
       "parent.postMessage({\"jupyterEvent\": \"custom.exercise_interaction\", \"data\": {\"outcomeType\": 1, \"valueTowardsCompletion\": 0.25, \"interactionType\": 1, \"questionType\": 1, \"questionId\": \"1_PointsDtype\", \"learnToolsVersion\": \"0.3.4\", \"failureMessage\": \"\", \"exceptionClass\": \"\", \"trace\": \"\"}}, \"*\")"
      ],
      "text/plain": [
       "<IPython.core.display.Javascript object>"
      ]
     },
     "metadata": {},
     "output_type": "display_data"
    },
    {
     "data": {
      "text/markdown": [
       "<span style=\"color:#33cc33\">Correct</span>"
      ],
      "text/plain": [
       "Correct"
      ]
     },
     "metadata": {},
     "output_type": "display_data"
    }
   ],
   "source": [
    "# Your code here\n",
    "dtype = reviews['points'].dtype\n",
    "\n",
    "# Check your answer\n",
    "q1.check()"
   ]
  },
  {
   "cell_type": "code",
   "execution_count": 3,
   "id": "b35e2a86",
   "metadata": {
    "execution": {
     "iopub.execute_input": "2022-02-27T18:32:31.052795Z",
     "iopub.status.busy": "2022-02-27T18:32:31.051964Z",
     "iopub.status.idle": "2022-02-27T18:32:31.054594Z",
     "shell.execute_reply": "2022-02-27T18:32:31.055051Z"
    },
    "papermill": {
     "duration": 0.023943,
     "end_time": "2022-02-27T18:32:31.055233",
     "exception": false,
     "start_time": "2022-02-27T18:32:31.031290",
     "status": "completed"
    },
    "tags": []
   },
   "outputs": [],
   "source": [
    "#q1.hint()\n",
    "#q1.solution()"
   ]
  },
  {
   "cell_type": "markdown",
   "id": "6eaf84eb",
   "metadata": {
    "papermill": {
     "duration": 0.016628,
     "end_time": "2022-02-27T18:32:31.088852",
     "exception": false,
     "start_time": "2022-02-27T18:32:31.072224",
     "status": "completed"
    },
    "tags": []
   },
   "source": [
    "## 2. \n",
    "Create a Series from entries in the `points` column, but convert the entries to strings. Hint: strings are `str` in native Python."
   ]
  },
  {
   "cell_type": "code",
   "execution_count": 4,
   "id": "1c2298b9",
   "metadata": {
    "execution": {
     "iopub.execute_input": "2022-02-27T18:32:31.260277Z",
     "iopub.status.busy": "2022-02-27T18:32:31.127804Z",
     "iopub.status.idle": "2022-02-27T18:32:31.266348Z",
     "shell.execute_reply": "2022-02-27T18:32:31.265851Z",
     "shell.execute_reply.started": "2022-02-27T18:12:42.438829Z"
    },
    "papermill": {
     "duration": 0.160021,
     "end_time": "2022-02-27T18:32:31.266519",
     "exception": false,
     "start_time": "2022-02-27T18:32:31.106498",
     "status": "completed"
    },
    "tags": []
   },
   "outputs": [
    {
     "data": {
      "application/javascript": [
       "parent.postMessage({\"jupyterEvent\": \"custom.exercise_interaction\", \"data\": {\"outcomeType\": 1, \"valueTowardsCompletion\": 0.25, \"interactionType\": 1, \"questionType\": 1, \"questionId\": \"2_StrPoints\", \"learnToolsVersion\": \"0.3.4\", \"failureMessage\": \"\", \"exceptionClass\": \"\", \"trace\": \"\"}}, \"*\")"
      ],
      "text/plain": [
       "<IPython.core.display.Javascript object>"
      ]
     },
     "metadata": {},
     "output_type": "display_data"
    },
    {
     "data": {
      "text/markdown": [
       "<span style=\"color:#33cc33\">Correct</span>"
      ],
      "text/plain": [
       "Correct"
      ]
     },
     "metadata": {},
     "output_type": "display_data"
    }
   ],
   "source": [
    "point_strings = reviews['points'].astype('str')\n",
    "\n",
    "# Check your answer\n",
    "q2.check()"
   ]
  },
  {
   "cell_type": "code",
   "execution_count": 5,
   "id": "1a7fe574",
   "metadata": {
    "execution": {
     "iopub.execute_input": "2022-02-27T18:32:31.307956Z",
     "iopub.status.busy": "2022-02-27T18:32:31.306922Z",
     "iopub.status.idle": "2022-02-27T18:32:31.310245Z",
     "shell.execute_reply": "2022-02-27T18:32:31.309628Z"
    },
    "papermill": {
     "duration": 0.025171,
     "end_time": "2022-02-27T18:32:31.310382",
     "exception": false,
     "start_time": "2022-02-27T18:32:31.285211",
     "status": "completed"
    },
    "tags": []
   },
   "outputs": [],
   "source": [
    "#q2.hint()\n",
    "#q2.solution()"
   ]
  },
  {
   "cell_type": "markdown",
   "id": "51fca6dc",
   "metadata": {
    "papermill": {
     "duration": 0.018447,
     "end_time": "2022-02-27T18:32:31.347205",
     "exception": false,
     "start_time": "2022-02-27T18:32:31.328758",
     "status": "completed"
    },
    "tags": []
   },
   "source": [
    "## 3.\n",
    "Sometimes the price column is null. How many reviews in the dataset are missing a price?"
   ]
  },
  {
   "cell_type": "code",
   "execution_count": 6,
   "id": "23ddf6ae",
   "metadata": {
    "execution": {
     "iopub.execute_input": "2022-02-27T18:32:31.390332Z",
     "iopub.status.busy": "2022-02-27T18:32:31.389655Z",
     "iopub.status.idle": "2022-02-27T18:32:31.393568Z",
     "shell.execute_reply": "2022-02-27T18:32:31.394064Z",
     "shell.execute_reply.started": "2022-02-27T18:19:27.347016Z"
    },
    "papermill": {
     "duration": 0.028599,
     "end_time": "2022-02-27T18:32:31.394237",
     "exception": false,
     "start_time": "2022-02-27T18:32:31.365638",
     "status": "completed"
    },
    "tags": []
   },
   "outputs": [
    {
     "data": {
      "application/javascript": [
       "parent.postMessage({\"jupyterEvent\": \"custom.exercise_interaction\", \"data\": {\"outcomeType\": 1, \"valueTowardsCompletion\": 0.25, \"interactionType\": 1, \"questionType\": 1, \"questionId\": \"3_CountMissingPrices\", \"learnToolsVersion\": \"0.3.4\", \"failureMessage\": \"\", \"exceptionClass\": \"\", \"trace\": \"\"}}, \"*\")"
      ],
      "text/plain": [
       "<IPython.core.display.Javascript object>"
      ]
     },
     "metadata": {},
     "output_type": "display_data"
    },
    {
     "data": {
      "text/markdown": [
       "<span style=\"color:#33cc33\">Correct</span>"
      ],
      "text/plain": [
       "Correct"
      ]
     },
     "metadata": {},
     "output_type": "display_data"
    }
   ],
   "source": [
    "n_missing_prices = 8996\n",
    "\n",
    "# pd.isnull(reviews['price']).value_counts()\n",
    "\n",
    "# Check your answer\n",
    "q3.check()"
   ]
  },
  {
   "cell_type": "code",
   "execution_count": 7,
   "id": "6a14dbf8",
   "metadata": {
    "execution": {
     "iopub.execute_input": "2022-02-27T18:32:31.438294Z",
     "iopub.status.busy": "2022-02-27T18:32:31.437639Z",
     "iopub.status.idle": "2022-02-27T18:32:31.441934Z",
     "shell.execute_reply": "2022-02-27T18:32:31.441287Z",
     "shell.execute_reply.started": "2022-02-27T18:19:31.835476Z"
    },
    "papermill": {
     "duration": 0.028294,
     "end_time": "2022-02-27T18:32:31.442068",
     "exception": false,
     "start_time": "2022-02-27T18:32:31.413774",
     "status": "completed"
    },
    "tags": []
   },
   "outputs": [
    {
     "data": {
      "application/javascript": [
       "parent.postMessage({\"jupyterEvent\": \"custom.exercise_interaction\", \"data\": {\"interactionType\": 3, \"questionType\": 1, \"questionId\": \"3_CountMissingPrices\", \"learnToolsVersion\": \"0.3.4\", \"valueTowardsCompletion\": 0.0, \"failureMessage\": \"\", \"exceptionClass\": \"\", \"trace\": \"\", \"outcomeType\": 4}}, \"*\")"
      ],
      "text/plain": [
       "<IPython.core.display.Javascript object>"
      ]
     },
     "metadata": {},
     "output_type": "display_data"
    },
    {
     "data": {
      "text/markdown": [
       "<span style=\"color:#33cc99\">Solution:</span> \n",
       "```python\n",
       "missing_price_reviews = reviews[reviews.price.isnull()]\n",
       "n_missing_prices = len(missing_price_reviews)\n",
       "# Cute alternative solution: if we sum a boolean series, True is treated as 1 and False as 0\n",
       "n_missing_prices = reviews.price.isnull().sum()\n",
       "# or equivalently:\n",
       "n_missing_prices = pd.isnull(reviews.price).sum()\n",
       "\n",
       "```"
      ],
      "text/plain": [
       "Solution: \n",
       "```python\n",
       "missing_price_reviews = reviews[reviews.price.isnull()]\n",
       "n_missing_prices = len(missing_price_reviews)\n",
       "# Cute alternative solution: if we sum a boolean series, True is treated as 1 and False as 0\n",
       "n_missing_prices = reviews.price.isnull().sum()\n",
       "# or equivalently:\n",
       "n_missing_prices = pd.isnull(reviews.price).sum()\n",
       "\n",
       "```"
      ]
     },
     "metadata": {},
     "output_type": "display_data"
    }
   ],
   "source": [
    "# q3.hint()\n",
    "q3.solution()"
   ]
  },
  {
   "cell_type": "markdown",
   "id": "32de455f",
   "metadata": {
    "papermill": {
     "duration": 0.020461,
     "end_time": "2022-02-27T18:32:31.485717",
     "exception": false,
     "start_time": "2022-02-27T18:32:31.465256",
     "status": "completed"
    },
    "tags": []
   },
   "source": [
    "## 4.\n",
    "What are the most common wine-producing regions? Create a Series counting the number of times each value occurs in the `region_1` field. This field is often missing data, so replace missing values with `Unknown`. Sort in descending order.  Your output should look something like this:\n",
    "\n",
    "```\n",
    "Unknown                    21247\n",
    "Napa Valley                 4480\n",
    "                           ...  \n",
    "Bardolino Superiore            1\n",
    "Primitivo del Tarantino        1\n",
    "Name: region_1, Length: 1230, dtype: int64\n",
    "```"
   ]
  },
  {
   "cell_type": "code",
   "execution_count": 8,
   "id": "7fa8109f",
   "metadata": {
    "execution": {
     "iopub.execute_input": "2022-02-27T18:32:31.529756Z",
     "iopub.status.busy": "2022-02-27T18:32:31.529120Z",
     "iopub.status.idle": "2022-02-27T18:32:31.623712Z",
     "shell.execute_reply": "2022-02-27T18:32:31.624214Z",
     "shell.execute_reply.started": "2022-02-27T18:31:16.598289Z"
    },
    "papermill": {
     "duration": 0.118193,
     "end_time": "2022-02-27T18:32:31.624377",
     "exception": false,
     "start_time": "2022-02-27T18:32:31.506184",
     "status": "completed"
    },
    "tags": []
   },
   "outputs": [
    {
     "data": {
      "application/javascript": [
       "parent.postMessage({\"jupyterEvent\": \"custom.exercise_interaction\", \"data\": {\"outcomeType\": 1, \"valueTowardsCompletion\": 0.25, \"interactionType\": 1, \"questionType\": 2, \"questionId\": \"4_ReviewsPerRegion\", \"learnToolsVersion\": \"0.3.4\", \"failureMessage\": \"\", \"exceptionClass\": \"\", \"trace\": \"\"}}, \"*\")"
      ],
      "text/plain": [
       "<IPython.core.display.Javascript object>"
      ]
     },
     "metadata": {},
     "output_type": "display_data"
    },
    {
     "data": {
      "text/markdown": [
       "<span style=\"color:#33cc33\">Correct</span>"
      ],
      "text/plain": [
       "Correct"
      ]
     },
     "metadata": {},
     "output_type": "display_data"
    }
   ],
   "source": [
    "reviews['region_1'] = reviews[\"region_1\"].fillna(\"Unknown\")\n",
    "\n",
    "reviews['region_1'].value_counts()\n",
    "\n",
    "reviews_per_region = reviews['region_1'].value_counts()\n",
    "\n",
    "# Check your answer\n",
    "q4.check()"
   ]
  },
  {
   "cell_type": "code",
   "execution_count": 9,
   "id": "3177f9a4",
   "metadata": {
    "execution": {
     "iopub.execute_input": "2022-02-27T18:32:31.672603Z",
     "iopub.status.busy": "2022-02-27T18:32:31.671856Z",
     "iopub.status.idle": "2022-02-27T18:32:31.678465Z",
     "shell.execute_reply": "2022-02-27T18:32:31.677907Z",
     "shell.execute_reply.started": "2022-02-27T18:31:36.613009Z"
    },
    "papermill": {
     "duration": 0.032137,
     "end_time": "2022-02-27T18:32:31.678612",
     "exception": false,
     "start_time": "2022-02-27T18:32:31.646475",
     "status": "completed"
    },
    "tags": []
   },
   "outputs": [
    {
     "data": {
      "application/javascript": [
       "parent.postMessage({\"jupyterEvent\": \"custom.exercise_interaction\", \"data\": {\"interactionType\": 3, \"questionType\": 2, \"questionId\": \"4_ReviewsPerRegion\", \"learnToolsVersion\": \"0.3.4\", \"valueTowardsCompletion\": 0.0, \"failureMessage\": \"\", \"exceptionClass\": \"\", \"trace\": \"\", \"outcomeType\": 4}}, \"*\")"
      ],
      "text/plain": [
       "<IPython.core.display.Javascript object>"
      ]
     },
     "metadata": {},
     "output_type": "display_data"
    },
    {
     "data": {
      "text/markdown": [
       "<span style=\"color:#33cc99\">Solution:</span> \n",
       "```python\n",
       "reviews_per_region = reviews.region_1.fillna('Unknown').value_counts().sort_values(ascending=False)\n",
       "```"
      ],
      "text/plain": [
       "Solution: \n",
       "```python\n",
       "reviews_per_region = reviews.region_1.fillna('Unknown').value_counts().sort_values(ascending=False)\n",
       "```"
      ]
     },
     "metadata": {},
     "output_type": "display_data"
    }
   ],
   "source": [
    "#q4.hint()\n",
    "q4.solution()"
   ]
  },
  {
   "cell_type": "markdown",
   "id": "f4473248",
   "metadata": {
    "papermill": {
     "duration": 0.022945,
     "end_time": "2022-02-27T18:32:31.725672",
     "exception": false,
     "start_time": "2022-02-27T18:32:31.702727",
     "status": "completed"
    },
    "tags": []
   },
   "source": [
    "# Keep going\n",
    "\n",
    "Move on to **[renaming and combining](https://www.kaggle.com/residentmario/renaming-and-combining)**."
   ]
  },
  {
   "cell_type": "markdown",
   "id": "af4fc5ee",
   "metadata": {
    "papermill": {
     "duration": 0.02289,
     "end_time": "2022-02-27T18:32:31.772063",
     "exception": false,
     "start_time": "2022-02-27T18:32:31.749173",
     "status": "completed"
    },
    "tags": []
   },
   "source": [
    "---\n",
    "\n",
    "\n",
    "\n",
    "\n",
    "*Have questions or comments? Visit the [course discussion forum](https://www.kaggle.com/learn/pandas/discussion) to chat with other learners.*"
   ]
  }
 ],
 "metadata": {
  "kernelspec": {
   "display_name": "Python 3",
   "language": "python",
   "name": "python3"
  },
  "language_info": {
   "codemirror_mode": {
    "name": "ipython",
    "version": 3
   },
   "file_extension": ".py",
   "mimetype": "text/x-python",
   "name": "python",
   "nbconvert_exporter": "python",
   "pygments_lexer": "ipython3",
   "version": "3.7.12"
  },
  "papermill": {
   "default_parameters": {},
   "duration": 14.929738,
   "end_time": "2022-02-27T18:32:32.507256",
   "environment_variables": {},
   "exception": null,
   "input_path": "__notebook__.ipynb",
   "output_path": "__notebook__.ipynb",
   "parameters": {},
   "start_time": "2022-02-27T18:32:17.577518",
   "version": "2.3.3"
  }
 },
 "nbformat": 4,
 "nbformat_minor": 5
}
