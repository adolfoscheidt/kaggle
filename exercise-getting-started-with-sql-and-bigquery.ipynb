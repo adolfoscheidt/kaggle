{
 "cells": [
  {
   "cell_type": "markdown",
   "id": "6c1e7226",
   "metadata": {
    "papermill": {
     "duration": 0.023418,
     "end_time": "2022-03-04T14:32:33.198211",
     "exception": false,
     "start_time": "2022-03-04T14:32:33.174793",
     "status": "completed"
    },
    "tags": []
   },
   "source": [
    "**This notebook is an exercise in the [SQL](https://www.kaggle.com/learn/intro-to-sql) course.  You can reference the tutorial at [this link](https://www.kaggle.com/dansbecker/getting-started-with-sql-and-bigquery).**\n",
    "\n",
    "---\n"
   ]
  },
  {
   "cell_type": "markdown",
   "id": "78c5dcc0",
   "metadata": {
    "papermill": {
     "duration": 0.025927,
     "end_time": "2022-03-04T14:32:33.248800",
     "exception": false,
     "start_time": "2022-03-04T14:32:33.222873",
     "status": "completed"
    },
    "tags": []
   },
   "source": [
    "# Introduction\n",
    "\n",
    "The first test of your new data exploration skills uses data describing crime in the city of Chicago.\n",
    "\n",
    "Before you get started, run the following cell. It sets up the automated feedback system to review your answers."
   ]
  },
  {
   "cell_type": "code",
   "execution_count": 1,
   "id": "32707be8",
   "metadata": {
    "execution": {
     "iopub.execute_input": "2022-03-04T14:32:33.310501Z",
     "iopub.status.busy": "2022-03-04T14:32:33.309875Z",
     "iopub.status.idle": "2022-03-04T14:32:34.088162Z",
     "shell.execute_reply": "2022-03-04T14:32:34.089125Z",
     "shell.execute_reply.started": "2022-03-04T14:06:02.588756Z"
    },
    "papermill": {
     "duration": 0.813502,
     "end_time": "2022-03-04T14:32:34.089645",
     "exception": false,
     "start_time": "2022-03-04T14:32:33.276143",
     "status": "completed"
    },
    "tags": []
   },
   "outputs": [
    {
     "name": "stdout",
     "output_type": "stream",
     "text": [
      "Using Kaggle's public dataset BigQuery integration.\n",
      "Setup Complete\n"
     ]
    }
   ],
   "source": [
    "# Set up feedack system\n",
    "from learntools.core import binder\n",
    "binder.bind(globals())\n",
    "from learntools.sql.ex1 import *\n",
    "print(\"Setup Complete\")"
   ]
  },
  {
   "cell_type": "markdown",
   "id": "bd14b13a",
   "metadata": {
    "papermill": {
     "duration": 0.020157,
     "end_time": "2022-03-04T14:32:34.132448",
     "exception": false,
     "start_time": "2022-03-04T14:32:34.112291",
     "status": "completed"
    },
    "tags": []
   },
   "source": [
    "Use the next code cell to fetch the dataset."
   ]
  },
  {
   "cell_type": "code",
   "execution_count": 2,
   "id": "631e6af4",
   "metadata": {
    "execution": {
     "iopub.execute_input": "2022-03-04T14:32:34.182615Z",
     "iopub.status.busy": "2022-03-04T14:32:34.181634Z",
     "iopub.status.idle": "2022-03-04T14:32:34.475664Z",
     "shell.execute_reply": "2022-03-04T14:32:34.476202Z",
     "shell.execute_reply.started": "2022-03-04T14:08:54.158635Z"
    },
    "papermill": {
     "duration": 0.323517,
     "end_time": "2022-03-04T14:32:34.476408",
     "exception": false,
     "start_time": "2022-03-04T14:32:34.152891",
     "status": "completed"
    },
    "tags": []
   },
   "outputs": [
    {
     "name": "stdout",
     "output_type": "stream",
     "text": [
      "Using Kaggle's public dataset BigQuery integration.\n"
     ]
    }
   ],
   "source": [
    "from google.cloud import bigquery\n",
    "\n",
    "# Create a \"Client\" object\n",
    "client = bigquery.Client()\n",
    "\n",
    "# Construct a reference to the \"chicago_crime\" dataset\n",
    "dataset_ref = client.dataset(\"chicago_crime\", project=\"bigquery-public-data\")\n",
    "\n",
    "# API request - fetch the dataset\n",
    "dataset = client.get_dataset(dataset_ref)"
   ]
  },
  {
   "cell_type": "markdown",
   "id": "3ff99dc0",
   "metadata": {
    "papermill": {
     "duration": 0.020725,
     "end_time": "2022-03-04T14:32:34.518646",
     "exception": false,
     "start_time": "2022-03-04T14:32:34.497921",
     "status": "completed"
    },
    "tags": []
   },
   "source": [
    "# Exercises\n",
    "\n",
    "### 1) Count tables in the dataset\n",
    "\n",
    "How many tables are in the Chicago Crime dataset?"
   ]
  },
  {
   "cell_type": "code",
   "execution_count": 3,
   "id": "626dbe1a",
   "metadata": {
    "execution": {
     "iopub.execute_input": "2022-03-04T14:32:34.565474Z",
     "iopub.status.busy": "2022-03-04T14:32:34.564423Z",
     "iopub.status.idle": "2022-03-04T14:32:34.776320Z",
     "shell.execute_reply": "2022-03-04T14:32:34.775808Z",
     "shell.execute_reply.started": "2022-03-04T14:17:14.949021Z"
    },
    "papermill": {
     "duration": 0.236566,
     "end_time": "2022-03-04T14:32:34.776496",
     "exception": false,
     "start_time": "2022-03-04T14:32:34.539930",
     "status": "completed"
    },
    "tags": []
   },
   "outputs": [
    {
     "data": {
      "text/plain": [
       "1"
      ]
     },
     "execution_count": 3,
     "metadata": {},
     "output_type": "execute_result"
    }
   ],
   "source": [
    "# Write the code you need here to figure out the answer\n",
    "len(list(client.list_tables(dataset)))\n",
    "\n",
    " "
   ]
  },
  {
   "cell_type": "code",
   "execution_count": 4,
   "id": "393c95b3",
   "metadata": {
    "execution": {
     "iopub.execute_input": "2022-03-04T14:32:34.822771Z",
     "iopub.status.busy": "2022-03-04T14:32:34.821796Z",
     "iopub.status.idle": "2022-03-04T14:32:35.033953Z",
     "shell.execute_reply": "2022-03-04T14:32:35.034503Z",
     "shell.execute_reply.started": "2022-03-04T14:17:27.832349Z"
    },
    "papermill": {
     "duration": 0.236957,
     "end_time": "2022-03-04T14:32:35.034669",
     "exception": false,
     "start_time": "2022-03-04T14:32:34.797712",
     "status": "completed"
    },
    "tags": []
   },
   "outputs": [
    {
     "data": {
      "application/javascript": [
       "parent.postMessage({\"jupyterEvent\": \"custom.exercise_interaction\", \"data\": {\"outcomeType\": 1, \"valueTowardsCompletion\": 0.3333333333333333, \"interactionType\": 1, \"questionType\": 1, \"questionId\": \"1_CountTables\", \"learnToolsVersion\": \"0.3.4\", \"failureMessage\": \"\", \"exceptionClass\": \"\", \"trace\": \"\"}}, \"*\")"
      ],
      "text/plain": [
       "<IPython.core.display.Javascript object>"
      ]
     },
     "metadata": {},
     "output_type": "display_data"
    },
    {
     "data": {
      "text/markdown": [
       "<span style=\"color:#33cc33\">Correct</span>"
      ],
      "text/plain": [
       "Correct"
      ]
     },
     "metadata": {},
     "output_type": "display_data"
    }
   ],
   "source": [
    "num_tables = len(list(client.list_tables(dataset)))\n",
    " \n",
    "# Check your answer\n",
    "q_1.check()"
   ]
  },
  {
   "cell_type": "markdown",
   "id": "f1b8c3d6",
   "metadata": {
    "papermill": {
     "duration": 0.024214,
     "end_time": "2022-03-04T14:32:35.081842",
     "exception": false,
     "start_time": "2022-03-04T14:32:35.057628",
     "status": "completed"
    },
    "tags": []
   },
   "source": [
    "For a hint or the solution, uncomment the appropriate line below."
   ]
  },
  {
   "cell_type": "code",
   "execution_count": 5,
   "id": "def63f23",
   "metadata": {
    "execution": {
     "iopub.execute_input": "2022-03-04T14:32:35.131036Z",
     "iopub.status.busy": "2022-03-04T14:32:35.130101Z",
     "iopub.status.idle": "2022-03-04T14:32:35.136990Z",
     "shell.execute_reply": "2022-03-04T14:32:35.137619Z",
     "shell.execute_reply.started": "2022-03-04T14:16:52.675977Z"
    },
    "papermill": {
     "duration": 0.033075,
     "end_time": "2022-03-04T14:32:35.137797",
     "exception": false,
     "start_time": "2022-03-04T14:32:35.104722",
     "status": "completed"
    },
    "tags": []
   },
   "outputs": [
    {
     "data": {
      "application/javascript": [
       "parent.postMessage({\"jupyterEvent\": \"custom.exercise_interaction\", \"data\": {\"interactionType\": 3, \"questionType\": 1, \"questionId\": \"1_CountTables\", \"learnToolsVersion\": \"0.3.4\", \"valueTowardsCompletion\": 0.0, \"failureMessage\": \"\", \"exceptionClass\": \"\", \"trace\": \"\", \"outcomeType\": 4}}, \"*\")"
      ],
      "text/plain": [
       "<IPython.core.display.Javascript object>"
      ]
     },
     "metadata": {},
     "output_type": "display_data"
    },
    {
     "data": {
      "text/markdown": [
       "<span style=\"color:#33cc99\">Solution:</span> \n",
       "```python\n",
       "\n",
       "# List all the tables in the \"chicago_crime\" dataset\n",
       "tables = list(client.list_tables(dataset))\n",
       "\n",
       "# Print number of tables in the dataset\n",
       "print(len(tables))\n",
       "\n",
       "num_tables = 1\n",
       "\n",
       "```"
      ],
      "text/plain": [
       "Solution: \n",
       "```python\n",
       "\n",
       "# List all the tables in the \"chicago_crime\" dataset\n",
       "tables = list(client.list_tables(dataset))\n",
       "\n",
       "# Print number of tables in the dataset\n",
       "print(len(tables))\n",
       "\n",
       "num_tables = 1\n",
       "\n",
       "```"
      ]
     },
     "metadata": {},
     "output_type": "display_data"
    }
   ],
   "source": [
    "# q_1.hint()\n",
    "q_1.solution()"
   ]
  },
  {
   "cell_type": "markdown",
   "id": "282fc7fe",
   "metadata": {
    "papermill": {
     "duration": 0.023336,
     "end_time": "2022-03-04T14:32:35.184604",
     "exception": false,
     "start_time": "2022-03-04T14:32:35.161268",
     "status": "completed"
    },
    "tags": []
   },
   "source": [
    "### 2) Explore the table schema\n",
    "\n",
    "How many columns in the `crime` table have `TIMESTAMP` data?"
   ]
  },
  {
   "cell_type": "code",
   "execution_count": 6,
   "id": "b96848e1",
   "metadata": {
    "execution": {
     "iopub.execute_input": "2022-03-04T14:32:35.236862Z",
     "iopub.status.busy": "2022-03-04T14:32:35.235874Z",
     "iopub.status.idle": "2022-03-04T14:32:35.441825Z",
     "shell.execute_reply": "2022-03-04T14:32:35.442357Z",
     "shell.execute_reply.started": "2022-03-04T14:19:46.969083Z"
    },
    "papermill": {
     "duration": 0.233595,
     "end_time": "2022-03-04T14:32:35.442555",
     "exception": false,
     "start_time": "2022-03-04T14:32:35.208960",
     "status": "completed"
    },
    "tags": []
   },
   "outputs": [
    {
     "data": {
      "text/plain": [
       "[SchemaField('unique_key', 'INTEGER', 'REQUIRED', None, (), None),\n",
       " SchemaField('case_number', 'STRING', 'NULLABLE', None, (), None),\n",
       " SchemaField('date', 'TIMESTAMP', 'NULLABLE', None, (), None),\n",
       " SchemaField('block', 'STRING', 'NULLABLE', None, (), None),\n",
       " SchemaField('iucr', 'STRING', 'NULLABLE', None, (), None),\n",
       " SchemaField('primary_type', 'STRING', 'NULLABLE', None, (), None),\n",
       " SchemaField('description', 'STRING', 'NULLABLE', None, (), None),\n",
       " SchemaField('location_description', 'STRING', 'NULLABLE', None, (), None),\n",
       " SchemaField('arrest', 'BOOLEAN', 'NULLABLE', None, (), None),\n",
       " SchemaField('domestic', 'BOOLEAN', 'NULLABLE', None, (), None),\n",
       " SchemaField('beat', 'INTEGER', 'NULLABLE', None, (), None),\n",
       " SchemaField('district', 'INTEGER', 'NULLABLE', None, (), None),\n",
       " SchemaField('ward', 'INTEGER', 'NULLABLE', None, (), None),\n",
       " SchemaField('community_area', 'INTEGER', 'NULLABLE', None, (), None),\n",
       " SchemaField('fbi_code', 'STRING', 'NULLABLE', None, (), None),\n",
       " SchemaField('x_coordinate', 'FLOAT', 'NULLABLE', None, (), None),\n",
       " SchemaField('y_coordinate', 'FLOAT', 'NULLABLE', None, (), None),\n",
       " SchemaField('year', 'INTEGER', 'NULLABLE', None, (), None),\n",
       " SchemaField('updated_on', 'TIMESTAMP', 'NULLABLE', None, (), None),\n",
       " SchemaField('latitude', 'FLOAT', 'NULLABLE', None, (), None),\n",
       " SchemaField('longitude', 'FLOAT', 'NULLABLE', None, (), None),\n",
       " SchemaField('location', 'STRING', 'NULLABLE', None, (), None)]"
      ]
     },
     "execution_count": 6,
     "metadata": {},
     "output_type": "execute_result"
    }
   ],
   "source": [
    "# Write the code to figure out the answer\n",
    "table_ref = dataset_ref.table(\"crime\")\n",
    "table = client.get_table(table_ref)\n",
    "\n",
    "table.schema"
   ]
  },
  {
   "cell_type": "code",
   "execution_count": 7,
   "id": "f20a87ba",
   "metadata": {
    "execution": {
     "iopub.execute_input": "2022-03-04T14:32:35.496334Z",
     "iopub.status.busy": "2022-03-04T14:32:35.495421Z",
     "iopub.status.idle": "2022-03-04T14:32:35.502480Z",
     "shell.execute_reply": "2022-03-04T14:32:35.503063Z",
     "shell.execute_reply.started": "2022-03-04T14:23:43.188702Z"
    },
    "papermill": {
     "duration": 0.036061,
     "end_time": "2022-03-04T14:32:35.503225",
     "exception": false,
     "start_time": "2022-03-04T14:32:35.467164",
     "status": "completed"
    },
    "tags": []
   },
   "outputs": [
    {
     "data": {
      "application/javascript": [
       "parent.postMessage({\"jupyterEvent\": \"custom.exercise_interaction\", \"data\": {\"outcomeType\": 1, \"valueTowardsCompletion\": 0.3333333333333333, \"interactionType\": 1, \"questionType\": 1, \"questionId\": \"2_CountTimestampFields\", \"learnToolsVersion\": \"0.3.4\", \"failureMessage\": \"\", \"exceptionClass\": \"\", \"trace\": \"\"}}, \"*\")"
      ],
      "text/plain": [
       "<IPython.core.display.Javascript object>"
      ]
     },
     "metadata": {},
     "output_type": "display_data"
    },
    {
     "data": {
      "text/markdown": [
       "<span style=\"color:#33cc33\">Correct</span>"
      ],
      "text/plain": [
       "Correct"
      ]
     },
     "metadata": {},
     "output_type": "display_data"
    }
   ],
   "source": [
    "num_timestamp_fields = 2 # Put your answer here\n",
    "\n",
    "# Check your answer\n",
    "q_2.check()"
   ]
  },
  {
   "cell_type": "markdown",
   "id": "ddc031db",
   "metadata": {
    "papermill": {
     "duration": 0.025244,
     "end_time": "2022-03-04T14:32:35.553881",
     "exception": false,
     "start_time": "2022-03-04T14:32:35.528637",
     "status": "completed"
    },
    "tags": []
   },
   "source": [
    "For a hint or the solution, uncomment the appropriate line below."
   ]
  },
  {
   "cell_type": "code",
   "execution_count": 8,
   "id": "f7f5efdf",
   "metadata": {
    "execution": {
     "iopub.execute_input": "2022-03-04T14:32:35.611933Z",
     "iopub.status.busy": "2022-03-04T14:32:35.610928Z",
     "iopub.status.idle": "2022-03-04T14:32:35.616148Z",
     "shell.execute_reply": "2022-03-04T14:32:35.616765Z",
     "shell.execute_reply.started": "2022-03-04T14:23:47.852430Z"
    },
    "papermill": {
     "duration": 0.037133,
     "end_time": "2022-03-04T14:32:35.616929",
     "exception": false,
     "start_time": "2022-03-04T14:32:35.579796",
     "status": "completed"
    },
    "tags": []
   },
   "outputs": [
    {
     "data": {
      "application/javascript": [
       "parent.postMessage({\"jupyterEvent\": \"custom.exercise_interaction\", \"data\": {\"interactionType\": 3, \"questionType\": 1, \"questionId\": \"2_CountTimestampFields\", \"learnToolsVersion\": \"0.3.4\", \"valueTowardsCompletion\": 0.0, \"failureMessage\": \"\", \"exceptionClass\": \"\", \"trace\": \"\", \"outcomeType\": 4}}, \"*\")"
      ],
      "text/plain": [
       "<IPython.core.display.Javascript object>"
      ]
     },
     "metadata": {},
     "output_type": "display_data"
    },
    {
     "data": {
      "text/markdown": [
       "<span style=\"color:#33cc99\">Solution:</span> \n",
       "```python\n",
       "\n",
       "# Construct a reference to the \"crime\" table\n",
       "table_ref = dataset_ref.table(\"crime\")\n",
       "\n",
       "# API request - fetch the table\n",
       "table = client.get_table(table_ref)\n",
       "\n",
       "# Print information on all the columns in the \"crime\" table in the \"chicago_crime\" dataset\n",
       "print(table.schema)\n",
       "\n",
       "num_timestamp_fields = 2\n",
       "\n",
       "```"
      ],
      "text/plain": [
       "Solution: \n",
       "```python\n",
       "\n",
       "# Construct a reference to the \"crime\" table\n",
       "table_ref = dataset_ref.table(\"crime\")\n",
       "\n",
       "# API request - fetch the table\n",
       "table = client.get_table(table_ref)\n",
       "\n",
       "# Print information on all the columns in the \"crime\" table in the \"chicago_crime\" dataset\n",
       "print(table.schema)\n",
       "\n",
       "num_timestamp_fields = 2\n",
       "\n",
       "```"
      ]
     },
     "metadata": {},
     "output_type": "display_data"
    }
   ],
   "source": [
    "#q_2.hint()\n",
    "q_2.solution()"
   ]
  },
  {
   "cell_type": "markdown",
   "id": "3392a138",
   "metadata": {
    "papermill": {
     "duration": 0.027515,
     "end_time": "2022-03-04T14:32:35.671191",
     "exception": false,
     "start_time": "2022-03-04T14:32:35.643676",
     "status": "completed"
    },
    "tags": []
   },
   "source": [
    "### 3) Create a crime map\n",
    "\n",
    "If you wanted to create a map with a dot at the location of each crime, what are the names of the two fields you likely need to pull out of the `crime` table to plot the crimes on a map?"
   ]
  },
  {
   "cell_type": "code",
   "execution_count": 9,
   "id": "6d07a1fe",
   "metadata": {
    "execution": {
     "iopub.execute_input": "2022-03-04T14:32:35.728543Z",
     "iopub.status.busy": "2022-03-04T14:32:35.727609Z",
     "iopub.status.idle": "2022-03-04T14:32:36.205333Z",
     "shell.execute_reply": "2022-03-04T14:32:36.205890Z",
     "shell.execute_reply.started": "2022-03-04T14:32:03.973456Z"
    },
    "papermill": {
     "duration": 0.508247,
     "end_time": "2022-03-04T14:32:36.206066",
     "exception": false,
     "start_time": "2022-03-04T14:32:35.697819",
     "status": "completed"
    },
    "tags": []
   },
   "outputs": [
    {
     "name": "stderr",
     "output_type": "stream",
     "text": [
      "/opt/conda/lib/python3.7/site-packages/ipykernel_launcher.py:2: UserWarning: Cannot use bqstorage_client if max_results is set, reverting to fetching data with the tabledata.list endpoint.\n",
      "  \n"
     ]
    },
    {
     "data": {
      "text/html": [
       "<div>\n",
       "<style scoped>\n",
       "    .dataframe tbody tr th:only-of-type {\n",
       "        vertical-align: middle;\n",
       "    }\n",
       "\n",
       "    .dataframe tbody tr th {\n",
       "        vertical-align: top;\n",
       "    }\n",
       "\n",
       "    .dataframe thead th {\n",
       "        text-align: right;\n",
       "    }\n",
       "</style>\n",
       "<table border=\"1\" class=\"dataframe\">\n",
       "  <thead>\n",
       "    <tr style=\"text-align: right;\">\n",
       "      <th></th>\n",
       "      <th>unique_key</th>\n",
       "      <th>case_number</th>\n",
       "      <th>date</th>\n",
       "      <th>block</th>\n",
       "      <th>iucr</th>\n",
       "      <th>primary_type</th>\n",
       "      <th>description</th>\n",
       "      <th>location_description</th>\n",
       "      <th>arrest</th>\n",
       "      <th>domestic</th>\n",
       "      <th>...</th>\n",
       "      <th>ward</th>\n",
       "      <th>community_area</th>\n",
       "      <th>fbi_code</th>\n",
       "      <th>x_coordinate</th>\n",
       "      <th>y_coordinate</th>\n",
       "      <th>year</th>\n",
       "      <th>updated_on</th>\n",
       "      <th>latitude</th>\n",
       "      <th>longitude</th>\n",
       "      <th>location</th>\n",
       "    </tr>\n",
       "  </thead>\n",
       "  <tbody>\n",
       "    <tr>\n",
       "      <th>0</th>\n",
       "      <td>6138305</td>\n",
       "      <td>HP229606</td>\n",
       "      <td>2008-03-17 10:46:48+00:00</td>\n",
       "      <td>131XX S HOUSTON AVE</td>\n",
       "      <td>3960</td>\n",
       "      <td>INTIMIDATION</td>\n",
       "      <td>INTIMIDATION</td>\n",
       "      <td>STREET</td>\n",
       "      <td>False</td>\n",
       "      <td>False</td>\n",
       "      <td>...</td>\n",
       "      <td>10</td>\n",
       "      <td>55</td>\n",
       "      <td>26</td>\n",
       "      <td>1198758.0</td>\n",
       "      <td>1818340.0</td>\n",
       "      <td>2008</td>\n",
       "      <td>2018-02-28 03:56:25+00:00</td>\n",
       "      <td>41.656342</td>\n",
       "      <td>-87.548370</td>\n",
       "      <td>(41.656341629, -87.548369939)</td>\n",
       "    </tr>\n",
       "    <tr>\n",
       "      <th>1</th>\n",
       "      <td>6143103</td>\n",
       "      <td>HP233621</td>\n",
       "      <td>2008-03-19 04:32:00+00:00</td>\n",
       "      <td>047XX W PETERSON AVE</td>\n",
       "      <td>033A</td>\n",
       "      <td>ROBBERY</td>\n",
       "      <td>ATTEMPT: ARMED-HANDGUN</td>\n",
       "      <td>BANK</td>\n",
       "      <td>False</td>\n",
       "      <td>False</td>\n",
       "      <td>...</td>\n",
       "      <td>39</td>\n",
       "      <td>12</td>\n",
       "      <td>03</td>\n",
       "      <td>1143493.0</td>\n",
       "      <td>1939456.0</td>\n",
       "      <td>2008</td>\n",
       "      <td>2018-02-28 03:56:25+00:00</td>\n",
       "      <td>41.989905</td>\n",
       "      <td>-87.747571</td>\n",
       "      <td>(41.989905261, -87.747571464)</td>\n",
       "    </tr>\n",
       "    <tr>\n",
       "      <th>2</th>\n",
       "      <td>11728443</td>\n",
       "      <td>JC313344</td>\n",
       "      <td>2019-06-19 04:49:00+00:00</td>\n",
       "      <td>014XX E 87TH ST</td>\n",
       "      <td>2025</td>\n",
       "      <td>NARCOTICS</td>\n",
       "      <td>POSS: HALLUCINOGENS</td>\n",
       "      <td>STREET</td>\n",
       "      <td>True</td>\n",
       "      <td>False</td>\n",
       "      <td>...</td>\n",
       "      <td>8</td>\n",
       "      <td>45</td>\n",
       "      <td>18</td>\n",
       "      <td>1187544.0</td>\n",
       "      <td>1847588.0</td>\n",
       "      <td>2019</td>\n",
       "      <td>2019-06-30 03:56:27+00:00</td>\n",
       "      <td>41.736875</td>\n",
       "      <td>-87.588477</td>\n",
       "      <td>(41.736874607, -87.588477131)</td>\n",
       "    </tr>\n",
       "    <tr>\n",
       "      <th>3</th>\n",
       "      <td>6009217</td>\n",
       "      <td>HP113681</td>\n",
       "      <td>2008-01-08 07:45:00+00:00</td>\n",
       "      <td>105XX S EWING AVE</td>\n",
       "      <td>1812</td>\n",
       "      <td>NARCOTICS</td>\n",
       "      <td>POSS: CANNABIS MORE THAN 30GMS</td>\n",
       "      <td>OTHER</td>\n",
       "      <td>True</td>\n",
       "      <td>False</td>\n",
       "      <td>...</td>\n",
       "      <td>10</td>\n",
       "      <td>52</td>\n",
       "      <td>18</td>\n",
       "      <td>1202174.0</td>\n",
       "      <td>1835580.0</td>\n",
       "      <td>2008</td>\n",
       "      <td>2018-02-28 03:56:25+00:00</td>\n",
       "      <td>41.703564</td>\n",
       "      <td>-87.535286</td>\n",
       "      <td>(41.703563787, -87.535286398)</td>\n",
       "    </tr>\n",
       "    <tr>\n",
       "      <th>4</th>\n",
       "      <td>6262401</td>\n",
       "      <td>HP349301</td>\n",
       "      <td>2008-05-21 08:30:00+00:00</td>\n",
       "      <td>051XX S PULASKI RD</td>\n",
       "      <td>0470</td>\n",
       "      <td>PUBLIC PEACE VIOLATION</td>\n",
       "      <td>RECKLESS CONDUCT</td>\n",
       "      <td>PARKING LOT/GARAGE(NON.RESID.)</td>\n",
       "      <td>True</td>\n",
       "      <td>False</td>\n",
       "      <td>...</td>\n",
       "      <td>23</td>\n",
       "      <td>62</td>\n",
       "      <td>24</td>\n",
       "      <td>1150575.0</td>\n",
       "      <td>1870054.0</td>\n",
       "      <td>2008</td>\n",
       "      <td>2018-02-28 03:56:25+00:00</td>\n",
       "      <td>41.799323</td>\n",
       "      <td>-87.723337</td>\n",
       "      <td>(41.799323177, -87.723337222)</td>\n",
       "    </tr>\n",
       "  </tbody>\n",
       "</table>\n",
       "<p>5 rows × 22 columns</p>\n",
       "</div>"
      ],
      "text/plain": [
       "   unique_key case_number                      date                 block  \\\n",
       "0     6138305    HP229606 2008-03-17 10:46:48+00:00   131XX S HOUSTON AVE   \n",
       "1     6143103    HP233621 2008-03-19 04:32:00+00:00  047XX W PETERSON AVE   \n",
       "2    11728443    JC313344 2019-06-19 04:49:00+00:00       014XX E 87TH ST   \n",
       "3     6009217    HP113681 2008-01-08 07:45:00+00:00     105XX S EWING AVE   \n",
       "4     6262401    HP349301 2008-05-21 08:30:00+00:00    051XX S PULASKI RD   \n",
       "\n",
       "   iucr            primary_type                     description  \\\n",
       "0  3960            INTIMIDATION                    INTIMIDATION   \n",
       "1  033A                 ROBBERY          ATTEMPT: ARMED-HANDGUN   \n",
       "2  2025               NARCOTICS             POSS: HALLUCINOGENS   \n",
       "3  1812               NARCOTICS  POSS: CANNABIS MORE THAN 30GMS   \n",
       "4  0470  PUBLIC PEACE VIOLATION                RECKLESS CONDUCT   \n",
       "\n",
       "             location_description  arrest  domestic  ...  ward  \\\n",
       "0                          STREET   False     False  ...    10   \n",
       "1                            BANK   False     False  ...    39   \n",
       "2                          STREET    True     False  ...     8   \n",
       "3                           OTHER    True     False  ...    10   \n",
       "4  PARKING LOT/GARAGE(NON.RESID.)    True     False  ...    23   \n",
       "\n",
       "   community_area  fbi_code  x_coordinate y_coordinate  year  \\\n",
       "0              55        26     1198758.0    1818340.0  2008   \n",
       "1              12        03     1143493.0    1939456.0  2008   \n",
       "2              45        18     1187544.0    1847588.0  2019   \n",
       "3              52        18     1202174.0    1835580.0  2008   \n",
       "4              62        24     1150575.0    1870054.0  2008   \n",
       "\n",
       "                 updated_on   latitude  longitude  \\\n",
       "0 2018-02-28 03:56:25+00:00  41.656342 -87.548370   \n",
       "1 2018-02-28 03:56:25+00:00  41.989905 -87.747571   \n",
       "2 2019-06-30 03:56:27+00:00  41.736875 -87.588477   \n",
       "3 2018-02-28 03:56:25+00:00  41.703564 -87.535286   \n",
       "4 2018-02-28 03:56:25+00:00  41.799323 -87.723337   \n",
       "\n",
       "                        location  \n",
       "0  (41.656341629, -87.548369939)  \n",
       "1  (41.989905261, -87.747571464)  \n",
       "2  (41.736874607, -87.588477131)  \n",
       "3  (41.703563787, -87.535286398)  \n",
       "4  (41.799323177, -87.723337222)  \n",
       "\n",
       "[5 rows x 22 columns]"
      ]
     },
     "execution_count": 9,
     "metadata": {},
     "output_type": "execute_result"
    }
   ],
   "source": [
    "# Write the code here to explore the data so you can find the answer\n",
    "client.list_rows(table, max_results=5).to_dataframe()"
   ]
  },
  {
   "cell_type": "code",
   "execution_count": 10,
   "id": "298f0456",
   "metadata": {
    "execution": {
     "iopub.execute_input": "2022-03-04T14:32:36.266325Z",
     "iopub.status.busy": "2022-03-04T14:32:36.265383Z",
     "iopub.status.idle": "2022-03-04T14:32:36.272919Z",
     "shell.execute_reply": "2022-03-04T14:32:36.273542Z",
     "shell.execute_reply.started": "2022-03-04T14:29:13.405452Z"
    },
    "papermill": {
     "duration": 0.039619,
     "end_time": "2022-03-04T14:32:36.273706",
     "exception": false,
     "start_time": "2022-03-04T14:32:36.234087",
     "status": "completed"
    },
    "tags": []
   },
   "outputs": [
    {
     "data": {
      "application/javascript": [
       "parent.postMessage({\"jupyterEvent\": \"custom.exercise_interaction\", \"data\": {\"outcomeType\": 1, \"valueTowardsCompletion\": 0.3333333333333333, \"interactionType\": 1, \"questionType\": 2, \"questionId\": \"3_IdentifyFieldsForPlotting\", \"learnToolsVersion\": \"0.3.4\", \"failureMessage\": \"\", \"exceptionClass\": \"\", \"trace\": \"\"}}, \"*\")"
      ],
      "text/plain": [
       "<IPython.core.display.Javascript object>"
      ]
     },
     "metadata": {},
     "output_type": "display_data"
    },
    {
     "data": {
      "text/markdown": [
       "<span style=\"color:#33cc33\">Correct</span>"
      ],
      "text/plain": [
       "Correct"
      ]
     },
     "metadata": {},
     "output_type": "display_data"
    }
   ],
   "source": [
    "fields_for_plotting = ['latitude', 'longitude'] # Put your answers here\n",
    "\n",
    "# Check your answer\n",
    "q_3.check()"
   ]
  },
  {
   "cell_type": "markdown",
   "id": "f8baa564",
   "metadata": {
    "papermill": {
     "duration": 0.028931,
     "end_time": "2022-03-04T14:32:36.331675",
     "exception": false,
     "start_time": "2022-03-04T14:32:36.302744",
     "status": "completed"
    },
    "tags": []
   },
   "source": [
    "For a hint or the solution, uncomment the appropriate line below."
   ]
  },
  {
   "cell_type": "code",
   "execution_count": 11,
   "id": "eaca33a0",
   "metadata": {
    "execution": {
     "iopub.execute_input": "2022-03-04T14:32:36.393876Z",
     "iopub.status.busy": "2022-03-04T14:32:36.392967Z",
     "iopub.status.idle": "2022-03-04T14:32:36.395889Z",
     "shell.execute_reply": "2022-03-04T14:32:36.396543Z",
     "shell.execute_reply.started": "2022-03-04T14:29:41.134594Z"
    },
    "papermill": {
     "duration": 0.035986,
     "end_time": "2022-03-04T14:32:36.396718",
     "exception": false,
     "start_time": "2022-03-04T14:32:36.360732",
     "status": "completed"
    },
    "tags": []
   },
   "outputs": [],
   "source": [
    "# q_3.hint()\n",
    "# q_3.solution()"
   ]
  },
  {
   "cell_type": "markdown",
   "id": "5c7da38e",
   "metadata": {
    "papermill": {
     "duration": 0.029245,
     "end_time": "2022-03-04T14:32:36.455016",
     "exception": false,
     "start_time": "2022-03-04T14:32:36.425771",
     "status": "completed"
    },
    "tags": []
   },
   "source": [
    "Thinking about the question above, there are a few columns that appear to have geographic data. Look at a few values (with the `list_rows()` command) to see if you can determine their relationship.  Two columns will still be hard to interpret. But it should be obvious how the `location` column relates to `latitude` and `longitude`."
   ]
  },
  {
   "cell_type": "code",
   "execution_count": 12,
   "id": "786c0998",
   "metadata": {
    "execution": {
     "iopub.execute_input": "2022-03-04T14:32:36.517719Z",
     "iopub.status.busy": "2022-03-04T14:32:36.516721Z",
     "iopub.status.idle": "2022-03-04T14:32:36.520302Z",
     "shell.execute_reply": "2022-03-04T14:32:36.520794Z"
    },
    "papermill": {
     "duration": 0.036421,
     "end_time": "2022-03-04T14:32:36.520966",
     "exception": false,
     "start_time": "2022-03-04T14:32:36.484545",
     "status": "completed"
    },
    "tags": []
   },
   "outputs": [],
   "source": [
    "# Scratch space for your code"
   ]
  },
  {
   "cell_type": "markdown",
   "id": "464d2d01",
   "metadata": {
    "papermill": {
     "duration": 0.029867,
     "end_time": "2022-03-04T14:32:36.579963",
     "exception": false,
     "start_time": "2022-03-04T14:32:36.550096",
     "status": "completed"
    },
    "tags": []
   },
   "source": [
    "# Keep going\n",
    "\n",
    "You've looked at the schema, but you haven't yet done anything exciting with the data itself. Things get more interesting when you get to the data, so keep going to **[write your first SQL query](https://www.kaggle.com/dansbecker/select-from-where).**"
   ]
  },
  {
   "cell_type": "markdown",
   "id": "3d2b529f",
   "metadata": {
    "papermill": {
     "duration": 0.02899,
     "end_time": "2022-03-04T14:32:36.638430",
     "exception": false,
     "start_time": "2022-03-04T14:32:36.609440",
     "status": "completed"
    },
    "tags": []
   },
   "source": [
    "---\n",
    "\n",
    "\n",
    "\n",
    "\n",
    "*Have questions or comments? Visit the [course discussion forum](https://www.kaggle.com/learn/intro-to-sql/discussion) to chat with other learners.*"
   ]
  }
 ],
 "metadata": {
  "kernelspec": {
   "display_name": "Python 3",
   "language": "python",
   "name": "python3"
  },
  "language_info": {
   "codemirror_mode": {
    "name": "ipython",
    "version": 3
   },
   "file_extension": ".py",
   "mimetype": "text/x-python",
   "name": "python",
   "nbconvert_exporter": "python",
   "pygments_lexer": "ipython3",
   "version": "3.7.12"
  },
  "papermill": {
   "default_parameters": {},
   "duration": 13.560449,
   "end_time": "2022-03-04T14:32:37.277380",
   "environment_variables": {},
   "exception": null,
   "input_path": "__notebook__.ipynb",
   "output_path": "__notebook__.ipynb",
   "parameters": {},
   "start_time": "2022-03-04T14:32:23.716931",
   "version": "2.3.3"
  }
 },
 "nbformat": 4,
 "nbformat_minor": 5
}
