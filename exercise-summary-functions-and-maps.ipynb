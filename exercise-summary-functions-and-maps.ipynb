{
 "cells": [
  {
   "cell_type": "markdown",
   "id": "935dd904",
   "metadata": {
    "papermill": {
     "duration": 0.029116,
     "end_time": "2022-02-27T17:58:17.508819",
     "exception": false,
     "start_time": "2022-02-27T17:58:17.479703",
     "status": "completed"
    },
    "tags": []
   },
   "source": [
    "**This notebook is an exercise in the [Pandas](https://www.kaggle.com/learn/pandas) course.  You can reference the tutorial at [this link](https://www.kaggle.com/residentmario/summary-functions-and-maps).**\n",
    "\n",
    "---\n"
   ]
  },
  {
   "cell_type": "markdown",
   "id": "f69cce02",
   "metadata": {
    "papermill": {
     "duration": 0.018338,
     "end_time": "2022-02-27T17:58:17.546695",
     "exception": false,
     "start_time": "2022-02-27T17:58:17.528357",
     "status": "completed"
    },
    "tags": []
   },
   "source": [
    "# Introduction\n",
    "\n",
    "Now you are ready to get a deeper understanding of your data.\n",
    "\n",
    "Run the following cell to load your data and some utility functions (including code to check your answers)."
   ]
  },
  {
   "cell_type": "code",
   "execution_count": 1,
   "id": "4b39c9e3",
   "metadata": {
    "execution": {
     "iopub.execute_input": "2022-02-27T17:58:17.587749Z",
     "iopub.status.busy": "2022-02-27T17:58:17.586861Z",
     "iopub.status.idle": "2022-02-27T17:58:23.483130Z",
     "shell.execute_reply": "2022-02-27T17:58:23.483542Z",
     "shell.execute_reply.started": "2022-02-26T22:20:00.30065Z"
    },
    "papermill": {
     "duration": 5.918317,
     "end_time": "2022-02-27T17:58:23.483751",
     "exception": false,
     "start_time": "2022-02-27T17:58:17.565434",
     "status": "completed"
    },
    "tags": []
   },
   "outputs": [
    {
     "name": "stdout",
     "output_type": "stream",
     "text": [
      "Setup complete.\n"
     ]
    },
    {
     "data": {
      "text/html": [
       "<div>\n",
       "<style scoped>\n",
       "    .dataframe tbody tr th:only-of-type {\n",
       "        vertical-align: middle;\n",
       "    }\n",
       "\n",
       "    .dataframe tbody tr th {\n",
       "        vertical-align: top;\n",
       "    }\n",
       "\n",
       "    .dataframe thead th {\n",
       "        text-align: right;\n",
       "    }\n",
       "</style>\n",
       "<table border=\"1\" class=\"dataframe\">\n",
       "  <thead>\n",
       "    <tr style=\"text-align: right;\">\n",
       "      <th></th>\n",
       "      <th>country</th>\n",
       "      <th>description</th>\n",
       "      <th>designation</th>\n",
       "      <th>points</th>\n",
       "      <th>price</th>\n",
       "      <th>province</th>\n",
       "      <th>region_1</th>\n",
       "      <th>region_2</th>\n",
       "      <th>taster_name</th>\n",
       "      <th>taster_twitter_handle</th>\n",
       "      <th>title</th>\n",
       "      <th>variety</th>\n",
       "      <th>winery</th>\n",
       "    </tr>\n",
       "  </thead>\n",
       "  <tbody>\n",
       "    <tr>\n",
       "      <th>0</th>\n",
       "      <td>Italy</td>\n",
       "      <td>Aromas include tropical fruit, broom, brimston...</td>\n",
       "      <td>Vulkà Bianco</td>\n",
       "      <td>87</td>\n",
       "      <td>NaN</td>\n",
       "      <td>Sicily &amp; Sardinia</td>\n",
       "      <td>Etna</td>\n",
       "      <td>NaN</td>\n",
       "      <td>Kerin O’Keefe</td>\n",
       "      <td>@kerinokeefe</td>\n",
       "      <td>Nicosia 2013 Vulkà Bianco  (Etna)</td>\n",
       "      <td>White Blend</td>\n",
       "      <td>Nicosia</td>\n",
       "    </tr>\n",
       "    <tr>\n",
       "      <th>1</th>\n",
       "      <td>Portugal</td>\n",
       "      <td>This is ripe and fruity, a wine that is smooth...</td>\n",
       "      <td>Avidagos</td>\n",
       "      <td>87</td>\n",
       "      <td>15.0</td>\n",
       "      <td>Douro</td>\n",
       "      <td>NaN</td>\n",
       "      <td>NaN</td>\n",
       "      <td>Roger Voss</td>\n",
       "      <td>@vossroger</td>\n",
       "      <td>Quinta dos Avidagos 2011 Avidagos Red (Douro)</td>\n",
       "      <td>Portuguese Red</td>\n",
       "      <td>Quinta dos Avidagos</td>\n",
       "    </tr>\n",
       "    <tr>\n",
       "      <th>2</th>\n",
       "      <td>US</td>\n",
       "      <td>Tart and snappy, the flavors of lime flesh and...</td>\n",
       "      <td>NaN</td>\n",
       "      <td>87</td>\n",
       "      <td>14.0</td>\n",
       "      <td>Oregon</td>\n",
       "      <td>Willamette Valley</td>\n",
       "      <td>Willamette Valley</td>\n",
       "      <td>Paul Gregutt</td>\n",
       "      <td>@paulgwine</td>\n",
       "      <td>Rainstorm 2013 Pinot Gris (Willamette Valley)</td>\n",
       "      <td>Pinot Gris</td>\n",
       "      <td>Rainstorm</td>\n",
       "    </tr>\n",
       "    <tr>\n",
       "      <th>3</th>\n",
       "      <td>US</td>\n",
       "      <td>Pineapple rind, lemon pith and orange blossom ...</td>\n",
       "      <td>Reserve Late Harvest</td>\n",
       "      <td>87</td>\n",
       "      <td>13.0</td>\n",
       "      <td>Michigan</td>\n",
       "      <td>Lake Michigan Shore</td>\n",
       "      <td>NaN</td>\n",
       "      <td>Alexander Peartree</td>\n",
       "      <td>NaN</td>\n",
       "      <td>St. Julian 2013 Reserve Late Harvest Riesling ...</td>\n",
       "      <td>Riesling</td>\n",
       "      <td>St. Julian</td>\n",
       "    </tr>\n",
       "    <tr>\n",
       "      <th>4</th>\n",
       "      <td>US</td>\n",
       "      <td>Much like the regular bottling from 2012, this...</td>\n",
       "      <td>Vintner's Reserve Wild Child Block</td>\n",
       "      <td>87</td>\n",
       "      <td>65.0</td>\n",
       "      <td>Oregon</td>\n",
       "      <td>Willamette Valley</td>\n",
       "      <td>Willamette Valley</td>\n",
       "      <td>Paul Gregutt</td>\n",
       "      <td>@paulgwine</td>\n",
       "      <td>Sweet Cheeks 2012 Vintner's Reserve Wild Child...</td>\n",
       "      <td>Pinot Noir</td>\n",
       "      <td>Sweet Cheeks</td>\n",
       "    </tr>\n",
       "  </tbody>\n",
       "</table>\n",
       "</div>"
      ],
      "text/plain": [
       "    country                                        description  \\\n",
       "0     Italy  Aromas include tropical fruit, broom, brimston...   \n",
       "1  Portugal  This is ripe and fruity, a wine that is smooth...   \n",
       "2        US  Tart and snappy, the flavors of lime flesh and...   \n",
       "3        US  Pineapple rind, lemon pith and orange blossom ...   \n",
       "4        US  Much like the regular bottling from 2012, this...   \n",
       "\n",
       "                          designation  points  price           province  \\\n",
       "0                        Vulkà Bianco      87    NaN  Sicily & Sardinia   \n",
       "1                            Avidagos      87   15.0              Douro   \n",
       "2                                 NaN      87   14.0             Oregon   \n",
       "3                Reserve Late Harvest      87   13.0           Michigan   \n",
       "4  Vintner's Reserve Wild Child Block      87   65.0             Oregon   \n",
       "\n",
       "              region_1           region_2         taster_name  \\\n",
       "0                 Etna                NaN       Kerin O’Keefe   \n",
       "1                  NaN                NaN          Roger Voss   \n",
       "2    Willamette Valley  Willamette Valley        Paul Gregutt   \n",
       "3  Lake Michigan Shore                NaN  Alexander Peartree   \n",
       "4    Willamette Valley  Willamette Valley        Paul Gregutt   \n",
       "\n",
       "  taster_twitter_handle                                              title  \\\n",
       "0          @kerinokeefe                  Nicosia 2013 Vulkà Bianco  (Etna)   \n",
       "1            @vossroger      Quinta dos Avidagos 2011 Avidagos Red (Douro)   \n",
       "2           @paulgwine       Rainstorm 2013 Pinot Gris (Willamette Valley)   \n",
       "3                   NaN  St. Julian 2013 Reserve Late Harvest Riesling ...   \n",
       "4           @paulgwine   Sweet Cheeks 2012 Vintner's Reserve Wild Child...   \n",
       "\n",
       "          variety               winery  \n",
       "0     White Blend              Nicosia  \n",
       "1  Portuguese Red  Quinta dos Avidagos  \n",
       "2      Pinot Gris            Rainstorm  \n",
       "3        Riesling           St. Julian  \n",
       "4      Pinot Noir         Sweet Cheeks  "
      ]
     },
     "execution_count": 1,
     "metadata": {},
     "output_type": "execute_result"
    }
   ],
   "source": [
    "import pandas as pd\n",
    "pd.set_option(\"display.max_rows\", 5)\n",
    "reviews = pd.read_csv(\"../input/wine-reviews/winemag-data-130k-v2.csv\", index_col=0)\n",
    "\n",
    "from learntools.core import binder; binder.bind(globals())\n",
    "from learntools.pandas.summary_functions_and_maps import *\n",
    "print(\"Setup complete.\")\n",
    "\n",
    "reviews.head()"
   ]
  },
  {
   "cell_type": "markdown",
   "id": "e14d6a57",
   "metadata": {
    "papermill": {
     "duration": 0.019601,
     "end_time": "2022-02-27T17:58:23.523891",
     "exception": false,
     "start_time": "2022-02-27T17:58:23.504290",
     "status": "completed"
    },
    "tags": []
   },
   "source": [
    "# Exercises"
   ]
  },
  {
   "cell_type": "markdown",
   "id": "818aad38",
   "metadata": {
    "papermill": {
     "duration": 0.019588,
     "end_time": "2022-02-27T17:58:23.563547",
     "exception": false,
     "start_time": "2022-02-27T17:58:23.543959",
     "status": "completed"
    },
    "tags": []
   },
   "source": [
    "## 1.\n",
    "\n",
    "What is the median of the `points` column in the `reviews` DataFrame?"
   ]
  },
  {
   "cell_type": "code",
   "execution_count": 2,
   "id": "5262dfcc",
   "metadata": {
    "execution": {
     "iopub.execute_input": "2022-02-27T17:58:23.606899Z",
     "iopub.status.busy": "2022-02-27T17:58:23.606344Z",
     "iopub.status.idle": "2022-02-27T17:58:23.612447Z",
     "shell.execute_reply": "2022-02-27T17:58:23.612935Z",
     "shell.execute_reply.started": "2022-02-26T14:14:02.217753Z"
    },
    "papermill": {
     "duration": 0.030349,
     "end_time": "2022-02-27T17:58:23.613079",
     "exception": false,
     "start_time": "2022-02-27T17:58:23.582730",
     "status": "completed"
    },
    "tags": []
   },
   "outputs": [
    {
     "data": {
      "application/javascript": [
       "parent.postMessage({\"jupyterEvent\": \"custom.exercise_interaction\", \"data\": {\"outcomeType\": 1, \"valueTowardsCompletion\": 0.14285714285714285, \"interactionType\": 1, \"questionType\": 1, \"questionId\": \"1_MedianPoints\", \"learnToolsVersion\": \"0.3.4\", \"failureMessage\": \"\", \"exceptionClass\": \"\", \"trace\": \"\"}}, \"*\")"
      ],
      "text/plain": [
       "<IPython.core.display.Javascript object>"
      ]
     },
     "metadata": {},
     "output_type": "display_data"
    },
    {
     "data": {
      "text/markdown": [
       "<span style=\"color:#33cc33\">Correct</span>"
      ],
      "text/plain": [
       "Correct"
      ]
     },
     "metadata": {},
     "output_type": "display_data"
    },
    {
     "data": {
      "text/plain": [
       "88.0"
      ]
     },
     "execution_count": 2,
     "metadata": {},
     "output_type": "execute_result"
    }
   ],
   "source": [
    "median_points = reviews[\"points\"].median()\n",
    "\n",
    "# Check your answer\n",
    "q1.check()\n",
    "median_points"
   ]
  },
  {
   "cell_type": "code",
   "execution_count": 3,
   "id": "e57e7d74",
   "metadata": {
    "execution": {
     "iopub.execute_input": "2022-02-27T17:58:23.659052Z",
     "iopub.status.busy": "2022-02-27T17:58:23.658340Z",
     "iopub.status.idle": "2022-02-27T17:58:23.659818Z",
     "shell.execute_reply": "2022-02-27T17:58:23.660302Z",
     "shell.execute_reply.started": "2022-02-26T14:09:53.843474Z"
    },
    "papermill": {
     "duration": 0.026686,
     "end_time": "2022-02-27T17:58:23.660448",
     "exception": false,
     "start_time": "2022-02-27T17:58:23.633762",
     "status": "completed"
    },
    "tags": []
   },
   "outputs": [],
   "source": [
    "# q1.hint()\n",
    "#q1.solution()"
   ]
  },
  {
   "cell_type": "markdown",
   "id": "c73b8f9d",
   "metadata": {
    "papermill": {
     "duration": 0.02071,
     "end_time": "2022-02-27T17:58:23.702132",
     "exception": false,
     "start_time": "2022-02-27T17:58:23.681422",
     "status": "completed"
    },
    "tags": []
   },
   "source": [
    "## 2. \n",
    "What countries are represented in the dataset? (Your answer should not include any duplicates.)"
   ]
  },
  {
   "cell_type": "code",
   "execution_count": 4,
   "id": "df2ff1dc",
   "metadata": {
    "execution": {
     "iopub.execute_input": "2022-02-27T17:58:23.747534Z",
     "iopub.status.busy": "2022-02-27T17:58:23.746879Z",
     "iopub.status.idle": "2022-02-27T17:58:23.759447Z",
     "shell.execute_reply": "2022-02-27T17:58:23.759849Z",
     "shell.execute_reply.started": "2022-02-26T14:14:58.057249Z"
    },
    "papermill": {
     "duration": 0.037039,
     "end_time": "2022-02-27T17:58:23.760017",
     "exception": false,
     "start_time": "2022-02-27T17:58:23.722978",
     "status": "completed"
    },
    "tags": []
   },
   "outputs": [
    {
     "data": {
      "application/javascript": [
       "parent.postMessage({\"jupyterEvent\": \"custom.exercise_interaction\", \"data\": {\"outcomeType\": 1, \"valueTowardsCompletion\": 0.14285714285714285, \"interactionType\": 1, \"questionType\": 2, \"questionId\": \"2_UniqueCountries\", \"learnToolsVersion\": \"0.3.4\", \"failureMessage\": \"\", \"exceptionClass\": \"\", \"trace\": \"\"}}, \"*\")"
      ],
      "text/plain": [
       "<IPython.core.display.Javascript object>"
      ]
     },
     "metadata": {},
     "output_type": "display_data"
    },
    {
     "data": {
      "text/markdown": [
       "<span style=\"color:#33cc33\">Correct</span>"
      ],
      "text/plain": [
       "Correct"
      ]
     },
     "metadata": {},
     "output_type": "display_data"
    }
   ],
   "source": [
    "countries = reviews['country'].unique()\n",
    "\n",
    "# Check your answer\n",
    "q2.check()"
   ]
  },
  {
   "cell_type": "code",
   "execution_count": 5,
   "id": "59243075",
   "metadata": {
    "execution": {
     "iopub.execute_input": "2022-02-27T17:58:23.808469Z",
     "iopub.status.busy": "2022-02-27T17:58:23.807803Z",
     "iopub.status.idle": "2022-02-27T17:58:23.810792Z",
     "shell.execute_reply": "2022-02-27T17:58:23.811335Z"
    },
    "papermill": {
     "duration": 0.028592,
     "end_time": "2022-02-27T17:58:23.811484",
     "exception": false,
     "start_time": "2022-02-27T17:58:23.782892",
     "status": "completed"
    },
    "tags": []
   },
   "outputs": [],
   "source": [
    "#q2.hint()\n",
    "#q2.solution()"
   ]
  },
  {
   "cell_type": "markdown",
   "id": "c4073bb5",
   "metadata": {
    "papermill": {
     "duration": 0.021121,
     "end_time": "2022-02-27T17:58:23.855092",
     "exception": false,
     "start_time": "2022-02-27T17:58:23.833971",
     "status": "completed"
    },
    "tags": []
   },
   "source": [
    "## 3.\n",
    "How often does each country appear in the dataset? Create a Series `reviews_per_country` mapping countries to the count of reviews of wines from that country."
   ]
  },
  {
   "cell_type": "code",
   "execution_count": 6,
   "id": "e0837b9b",
   "metadata": {
    "execution": {
     "iopub.execute_input": "2022-02-27T17:58:23.919995Z",
     "iopub.status.busy": "2022-02-27T17:58:23.919233Z",
     "iopub.status.idle": "2022-02-27T17:58:23.929971Z",
     "shell.execute_reply": "2022-02-27T17:58:23.930514Z",
     "shell.execute_reply.started": "2022-02-26T14:16:31.538435Z"
    },
    "papermill": {
     "duration": 0.05398,
     "end_time": "2022-02-27T17:58:23.930692",
     "exception": false,
     "start_time": "2022-02-27T17:58:23.876712",
     "status": "completed"
    },
    "tags": []
   },
   "outputs": [
    {
     "data": {
      "application/javascript": [
       "parent.postMessage({\"jupyterEvent\": \"custom.exercise_interaction\", \"data\": {\"outcomeType\": 1, \"valueTowardsCompletion\": 0.14285714285714285, \"interactionType\": 1, \"questionType\": 1, \"questionId\": \"3_ReviewsPerCountry\", \"learnToolsVersion\": \"0.3.4\", \"failureMessage\": \"\", \"exceptionClass\": \"\", \"trace\": \"\"}}, \"*\")"
      ],
      "text/plain": [
       "<IPython.core.display.Javascript object>"
      ]
     },
     "metadata": {},
     "output_type": "display_data"
    },
    {
     "data": {
      "text/markdown": [
       "<span style=\"color:#33cc33\">Correct</span>"
      ],
      "text/plain": [
       "Correct"
      ]
     },
     "metadata": {},
     "output_type": "display_data"
    },
    {
     "data": {
      "text/plain": [
       "US        54504\n",
       "France    22093\n",
       "          ...  \n",
       "China         1\n",
       "Egypt         1\n",
       "Name: country, Length: 43, dtype: int64"
      ]
     },
     "execution_count": 6,
     "metadata": {},
     "output_type": "execute_result"
    }
   ],
   "source": [
    "reviews_per_country = reviews['country'].value_counts()\n",
    "\n",
    "# Check your answer\n",
    "q3.check()\n",
    "reviews_per_country"
   ]
  },
  {
   "cell_type": "code",
   "execution_count": 7,
   "id": "743a6c07",
   "metadata": {
    "execution": {
     "iopub.execute_input": "2022-02-27T17:58:23.981885Z",
     "iopub.status.busy": "2022-02-27T17:58:23.981239Z",
     "iopub.status.idle": "2022-02-27T17:58:23.984946Z",
     "shell.execute_reply": "2022-02-27T17:58:23.984472Z"
    },
    "papermill": {
     "duration": 0.030749,
     "end_time": "2022-02-27T17:58:23.985063",
     "exception": false,
     "start_time": "2022-02-27T17:58:23.954314",
     "status": "completed"
    },
    "tags": []
   },
   "outputs": [],
   "source": [
    "#q3.hint()\n",
    "#q3.solution()"
   ]
  },
  {
   "cell_type": "markdown",
   "id": "dcd48496",
   "metadata": {
    "papermill": {
     "duration": 0.024624,
     "end_time": "2022-02-27T17:58:24.033772",
     "exception": false,
     "start_time": "2022-02-27T17:58:24.009148",
     "status": "completed"
    },
    "tags": []
   },
   "source": [
    "## 4.\n",
    "Create variable `centered_price` containing a version of the `price` column with the mean price subtracted.\n",
    "\n",
    "(Note: this 'centering' transformation is a common preprocessing step before applying various machine learning algorithms.) "
   ]
  },
  {
   "cell_type": "code",
   "execution_count": 8,
   "id": "c039312a",
   "metadata": {
    "execution": {
     "iopub.execute_input": "2022-02-27T17:58:24.111239Z",
     "iopub.status.busy": "2022-02-27T17:58:24.110416Z",
     "iopub.status.idle": "2022-02-27T17:58:24.145288Z",
     "shell.execute_reply": "2022-02-27T17:58:24.145697Z",
     "shell.execute_reply.started": "2022-02-26T14:34:06.381089Z"
    },
    "papermill": {
     "duration": 0.075299,
     "end_time": "2022-02-27T17:58:24.145834",
     "exception": false,
     "start_time": "2022-02-27T17:58:24.070535",
     "status": "completed"
    },
    "tags": []
   },
   "outputs": [
    {
     "data": {
      "application/javascript": [
       "parent.postMessage({\"jupyterEvent\": \"custom.exercise_interaction\", \"data\": {\"outcomeType\": 1, \"valueTowardsCompletion\": 0.14285714285714285, \"interactionType\": 1, \"questionType\": 1, \"questionId\": \"4_CenteredPrice\", \"learnToolsVersion\": \"0.3.4\", \"failureMessage\": \"\", \"exceptionClass\": \"\", \"trace\": \"\"}}, \"*\")"
      ],
      "text/plain": [
       "<IPython.core.display.Javascript object>"
      ]
     },
     "metadata": {},
     "output_type": "display_data"
    },
    {
     "data": {
      "text/markdown": [
       "<span style=\"color:#33cc33\">Correct</span>"
      ],
      "text/plain": [
       "Correct"
      ]
     },
     "metadata": {},
     "output_type": "display_data"
    }
   ],
   "source": [
    "# centered_price = reviews['price'] - reviews['price'].mean()\n",
    "\n",
    "#ou\n",
    "\n",
    "mean_price = reviews['price'].mean()\n",
    "centered_price = reviews['price'].map(lambda p: p - mean_price)\n",
    "\n",
    "# Check your answer\n",
    "q4.check()"
   ]
  },
  {
   "cell_type": "code",
   "execution_count": 9,
   "id": "6c9b7dce",
   "metadata": {
    "execution": {
     "iopub.execute_input": "2022-02-27T17:58:24.198447Z",
     "iopub.status.busy": "2022-02-27T17:58:24.197844Z",
     "iopub.status.idle": "2022-02-27T17:58:24.201121Z",
     "shell.execute_reply": "2022-02-27T17:58:24.201492Z",
     "shell.execute_reply.started": "2022-02-26T14:34:10.729167Z"
    },
    "papermill": {
     "duration": 0.031253,
     "end_time": "2022-02-27T17:58:24.201642",
     "exception": false,
     "start_time": "2022-02-27T17:58:24.170389",
     "status": "completed"
    },
    "tags": []
   },
   "outputs": [],
   "source": [
    "#q4.hint()\n",
    "# q4.solution()"
   ]
  },
  {
   "cell_type": "markdown",
   "id": "82bdc682",
   "metadata": {
    "papermill": {
     "duration": 0.02388,
     "end_time": "2022-02-27T17:58:24.250588",
     "exception": false,
     "start_time": "2022-02-27T17:58:24.226708",
     "status": "completed"
    },
    "tags": []
   },
   "source": [
    "## 5.\n",
    "I'm an economical wine buyer. Which wine is the \"best bargain\"? Create a variable `bargain_wine` with the title of the wine with the highest points-to-price ratio in the dataset."
   ]
  },
  {
   "cell_type": "code",
   "execution_count": 10,
   "id": "6be9d321",
   "metadata": {
    "execution": {
     "iopub.execute_input": "2022-02-27T17:58:24.305656Z",
     "iopub.status.busy": "2022-02-27T17:58:24.302949Z",
     "iopub.status.idle": "2022-02-27T17:58:24.314244Z",
     "shell.execute_reply": "2022-02-27T17:58:24.314700Z",
     "shell.execute_reply.started": "2022-02-26T14:59:39.31372Z"
    },
    "papermill": {
     "duration": 0.038789,
     "end_time": "2022-02-27T17:58:24.314836",
     "exception": false,
     "start_time": "2022-02-27T17:58:24.276047",
     "status": "completed"
    },
    "tags": []
   },
   "outputs": [
    {
     "data": {
      "text/plain": [
       "'Bandit NV Merlot (California)'"
      ]
     },
     "execution_count": 10,
     "metadata": {},
     "output_type": "execute_result"
    }
   ],
   "source": [
    "reviews['points_to_price_ratio'] = (reviews['points'] / reviews['price']) \n",
    "bargain_index = reviews['points_to_price_ratio'].idxmax()\n",
    "bargain_wine = reviews.loc[bargain_index, 'title']\n",
    "\n",
    "bargain_wine\n",
    " \n",
    "\n",
    "# q5.check()"
   ]
  },
  {
   "cell_type": "code",
   "execution_count": 11,
   "id": "24d5aab8",
   "metadata": {
    "execution": {
     "iopub.execute_input": "2022-02-27T17:58:24.369420Z",
     "iopub.status.busy": "2022-02-27T17:58:24.368617Z",
     "iopub.status.idle": "2022-02-27T17:58:24.372824Z",
     "shell.execute_reply": "2022-02-27T17:58:24.373295Z",
     "shell.execute_reply.started": "2022-02-26T14:59:55.440505Z"
    },
    "papermill": {
     "duration": 0.034027,
     "end_time": "2022-02-27T17:58:24.373431",
     "exception": false,
     "start_time": "2022-02-27T17:58:24.339404",
     "status": "completed"
    },
    "tags": []
   },
   "outputs": [
    {
     "data": {
      "application/javascript": [
       "parent.postMessage({\"jupyterEvent\": \"custom.exercise_interaction\", \"data\": {\"interactionType\": 3, \"questionType\": 2, \"questionId\": \"5_BargainWine\", \"learnToolsVersion\": \"0.3.4\", \"valueTowardsCompletion\": 0.0, \"failureMessage\": \"\", \"exceptionClass\": \"\", \"trace\": \"\", \"outcomeType\": 4}}, \"*\")"
      ],
      "text/plain": [
       "<IPython.core.display.Javascript object>"
      ]
     },
     "metadata": {},
     "output_type": "display_data"
    },
    {
     "data": {
      "text/markdown": [
       "<span style=\"color:#33cc99\">Solution:</span> \n",
       "```python\n",
       "bargain_idx = (reviews.points / reviews.price).idxmax()\n",
       "bargain_wine = reviews.loc[bargain_idx, 'title']\n",
       "```"
      ],
      "text/plain": [
       "Solution: \n",
       "```python\n",
       "bargain_idx = (reviews.points / reviews.price).idxmax()\n",
       "bargain_wine = reviews.loc[bargain_idx, 'title']\n",
       "```"
      ]
     },
     "metadata": {},
     "output_type": "display_data"
    }
   ],
   "source": [
    "# q5.hint()\n",
    "q5.solution()"
   ]
  },
  {
   "cell_type": "markdown",
   "id": "a1a0c78a",
   "metadata": {
    "papermill": {
     "duration": 0.025171,
     "end_time": "2022-02-27T17:58:24.424351",
     "exception": false,
     "start_time": "2022-02-27T17:58:24.399180",
     "status": "completed"
    },
    "tags": []
   },
   "source": [
    "## 6.\n",
    "There are only so many words you can use when describing a bottle of wine. Is a wine more likely to be \"tropical\" or \"fruity\"? Create a Series `descriptor_counts` counting how many times each of these two words appears in the `description` column in the dataset. (For simplicity, let's ignore the capitalized versions of these words.)"
   ]
  },
  {
   "cell_type": "code",
   "execution_count": 12,
   "id": "177505a6",
   "metadata": {
    "execution": {
     "iopub.execute_input": "2022-02-27T17:58:24.479550Z",
     "iopub.status.busy": "2022-02-27T17:58:24.478845Z",
     "iopub.status.idle": "2022-02-27T17:58:24.753549Z",
     "shell.execute_reply": "2022-02-27T17:58:24.754039Z",
     "shell.execute_reply.started": "2022-02-26T20:36:09.959039Z"
    },
    "papermill": {
     "duration": 0.303923,
     "end_time": "2022-02-27T17:58:24.754176",
     "exception": false,
     "start_time": "2022-02-27T17:58:24.450253",
     "status": "completed"
    },
    "tags": []
   },
   "outputs": [
    {
     "data": {
      "text/plain": [
       "tropical    3703\n",
       "fruity      9259\n",
       "dtype: int64"
      ]
     },
     "execution_count": 12,
     "metadata": {},
     "output_type": "execute_result"
    }
   ],
   "source": [
    "# Solução \"mais correta\" que a apresentada que o código retornado em q6.solution().\n",
    "# Lembrando que esse código também conta palavras que tenham \"tropical\" ou \"fruity\" DENTRO delas (por exemplo, \"troplicalistic\" também entra na soma)\n",
    "\n",
    "sum_t = reviews['description'].str.count(\"tropical\").sum()\n",
    "sum_f = reviews['description'].str.count('fruity').sum()\n",
    "\n",
    "descriptor_counts = pd.Series({\"tropical\": sum_t, \"fruity\": sum_f})\n",
    "descriptor_counts\n",
    "\n",
    "\n",
    "# Check your answer\n",
    "# q6.check()"
   ]
  },
  {
   "cell_type": "code",
   "execution_count": 13,
   "id": "8ababa62",
   "metadata": {
    "execution": {
     "iopub.execute_input": "2022-02-27T17:58:24.813957Z",
     "iopub.status.busy": "2022-02-27T17:58:24.813303Z",
     "iopub.status.idle": "2022-02-27T17:58:24.927106Z",
     "shell.execute_reply": "2022-02-27T17:58:24.927472Z",
     "shell.execute_reply.started": "2022-02-26T22:20:43.329185Z"
    },
    "papermill": {
     "duration": 0.146997,
     "end_time": "2022-02-27T17:58:24.927610",
     "exception": false,
     "start_time": "2022-02-27T17:58:24.780613",
     "status": "completed"
    },
    "tags": []
   },
   "outputs": [
    {
     "data": {
      "application/javascript": [
       "parent.postMessage({\"jupyterEvent\": \"custom.exercise_interaction\", \"data\": {\"outcomeType\": 1, \"valueTowardsCompletion\": 0.14285714285714285, \"interactionType\": 1, \"questionType\": 1, \"questionId\": \"6_DescriptorCounts\", \"learnToolsVersion\": \"0.3.4\", \"failureMessage\": \"\", \"exceptionClass\": \"\", \"trace\": \"\"}}, \"*\")"
      ],
      "text/plain": [
       "<IPython.core.display.Javascript object>"
      ]
     },
     "metadata": {},
     "output_type": "display_data"
    },
    {
     "data": {
      "text/markdown": [
       "<span style=\"color:#33cc33\">Correct</span>"
      ],
      "text/plain": [
       "Correct"
      ]
     },
     "metadata": {},
     "output_type": "display_data"
    }
   ],
   "source": [
    "#OBS: Esta solução não leva em conta a repetição das palavras \"tropical\" e \"fruity\" em cada descrição individual.\n",
    "\n",
    "#q6.hint()\n",
    "# q6.solution()\n",
    "\n",
    "n_trop = reviews.description.map(lambda desc: \"tropical\" in desc).sum()\n",
    "n_fruity = reviews.description.map(lambda desc: \"fruity\" in desc).sum()\n",
    "descriptor_counts = pd.Series([n_trop, n_fruity], index=['tropical', 'fruity'])\n",
    "\n",
    "q6.check()"
   ]
  },
  {
   "cell_type": "markdown",
   "id": "2cbb5f47",
   "metadata": {
    "papermill": {
     "duration": 0.02683,
     "end_time": "2022-02-27T17:58:24.981810",
     "exception": false,
     "start_time": "2022-02-27T17:58:24.954980",
     "status": "completed"
    },
    "tags": []
   },
   "source": [
    "## 7.\n",
    "We'd like to host these wine reviews on our website, but a rating system ranging from 80 to 100 points is too hard to understand - we'd like to translate them into simple star ratings. A score of 95 or higher counts as 3 stars, a score of at least 85 but less than 95 is 2 stars. Any other score is 1 star.\n",
    "\n",
    "Also, the Canadian Vintners Association bought a lot of ads on the site, so any wines from Canada should automatically get 3 stars, regardless of points.\n",
    "\n",
    "Create a series `star_ratings` with the number of stars corresponding to each review in the dataset."
   ]
  },
  {
   "cell_type": "code",
   "execution_count": 14,
   "id": "7ab08826",
   "metadata": {
    "execution": {
     "iopub.execute_input": "2022-02-27T17:58:25.043597Z",
     "iopub.status.busy": "2022-02-27T17:58:25.043100Z",
     "iopub.status.idle": "2022-02-27T17:58:25.121564Z",
     "shell.execute_reply": "2022-02-27T17:58:25.121968Z",
     "shell.execute_reply.started": "2022-02-26T22:17:56.712729Z"
    },
    "papermill": {
     "duration": 0.112698,
     "end_time": "2022-02-27T17:58:25.122096",
     "exception": false,
     "start_time": "2022-02-27T17:58:25.009398",
     "status": "completed"
    },
    "tags": []
   },
   "outputs": [
    {
     "name": "stderr",
     "output_type": "stream",
     "text": [
      "/opt/conda/lib/python3.7/site-packages/ipykernel_launcher.py:16: SettingWithCopyWarning: \n",
      "A value is trying to be set on a copy of a slice from a DataFrame\n",
      "\n",
      "See the caveats in the documentation: https://pandas.pydata.org/pandas-docs/stable/user_guide/indexing.html#returning-a-view-versus-a-copy\n",
      "  app.launch_new_instance()\n"
     ]
    },
    {
     "data": {
      "text/plain": [
       "0         2\n",
       "1         2\n",
       "         ..\n",
       "129969    2\n",
       "129970    2\n",
       "Name: points, Length: 129971, dtype: int64"
      ]
     },
     "execution_count": 14,
     "metadata": {},
     "output_type": "execute_result"
    }
   ],
   "source": [
    "# O código da solução está melhorzinho.\n",
    "\n",
    "def getStars(value):\n",
    "    if value >= 95:\n",
    "         return 3\n",
    "    elif value < 85:\n",
    "        return 1\n",
    "    else:\n",
    "        return 2\n",
    "    \n",
    "canada_df = reviews.copy()[reviews['country'] == \"Canada\"]\n",
    "# canada_df.head()\n",
    "canada_indxs = canada_df.index\n",
    "\n",
    "reviews['points'] = reviews['points'].copy().map(getStars)\n",
    "reviews[\"points\"][canada_indxs] = reviews[\"points\"][canada_indxs].copy().map(lambda p: 3)\n",
    "star_ratings = reviews[\"points\"]\n",
    "star_ratings\n",
    "\n",
    "\n",
    "# reviews.apply(getStars, axis='columns')['points']\n",
    "    \n",
    "\n",
    "# points_df = reviews.copy()[reviews['country'] == \"Canada\"]\n",
    "# points_df.head()\n",
    "\n",
    "# Check your answer\n",
    "# q7.check()"
   ]
  },
  {
   "cell_type": "code",
   "execution_count": 15,
   "id": "450bac9d",
   "metadata": {
    "execution": {
     "iopub.execute_input": "2022-02-27T17:58:25.182436Z",
     "iopub.status.busy": "2022-02-27T17:58:25.181842Z",
     "iopub.status.idle": "2022-02-27T17:58:28.521235Z",
     "shell.execute_reply": "2022-02-27T17:58:28.520657Z",
     "shell.execute_reply.started": "2022-02-26T22:20:56.730691Z"
    },
    "papermill": {
     "duration": 3.372032,
     "end_time": "2022-02-27T17:58:28.521362",
     "exception": false,
     "start_time": "2022-02-27T17:58:25.149330",
     "status": "completed"
    },
    "tags": []
   },
   "outputs": [
    {
     "data": {
      "application/javascript": [
       "parent.postMessage({\"jupyterEvent\": \"custom.exercise_interaction\", \"data\": {\"outcomeType\": 2, \"failureMessage\": \"Incorrect value for `star_ratings`\", \"interactionType\": 1, \"questionType\": 1, \"questionId\": \"7_StarRatings\", \"learnToolsVersion\": \"0.3.4\", \"valueTowardsCompletion\": 0.0, \"exceptionClass\": \"\", \"trace\": \"\"}}, \"*\")"
      ],
      "text/plain": [
       "<IPython.core.display.Javascript object>"
      ]
     },
     "metadata": {},
     "output_type": "display_data"
    },
    {
     "data": {
      "text/markdown": [
       "<span style=\"color:#cc3333\">Incorrect:</span> Incorrect value for `star_ratings`"
      ],
      "text/plain": [
       "Incorrect: Incorrect value for `star_ratings`"
      ]
     },
     "metadata": {},
     "output_type": "display_data"
    }
   ],
   "source": [
    "# q7.hint()\n",
    "# q7.solution()\n",
    "\n",
    "def stars(row):\n",
    "    if row.country == 'Canada':\n",
    "        return 3\n",
    "    elif row.points >= 95:\n",
    "        return 3\n",
    "    elif row.points >= 85:\n",
    "        return 2\n",
    "    else:\n",
    "        return 1\n",
    "\n",
    "star_ratings = reviews.apply(stars, axis='columns')\n",
    "star_ratings\n",
    "\n",
    "q7.check()"
   ]
  },
  {
   "cell_type": "markdown",
   "id": "5dacdbe8",
   "metadata": {
    "papermill": {
     "duration": 0.029545,
     "end_time": "2022-02-27T17:58:28.581053",
     "exception": false,
     "start_time": "2022-02-27T17:58:28.551508",
     "status": "completed"
    },
    "tags": []
   },
   "source": [
    "# Keep going\n",
    "Continue to **[grouping and sorting](https://www.kaggle.com/residentmario/grouping-and-sorting)**."
   ]
  },
  {
   "cell_type": "markdown",
   "id": "4fd252aa",
   "metadata": {
    "papermill": {
     "duration": 0.028425,
     "end_time": "2022-02-27T17:58:28.638418",
     "exception": false,
     "start_time": "2022-02-27T17:58:28.609993",
     "status": "completed"
    },
    "tags": []
   },
   "source": [
    "---\n",
    "\n",
    "\n",
    "\n",
    "\n",
    "*Have questions or comments? Visit the [course discussion forum](https://www.kaggle.com/learn/pandas/discussion) to chat with other learners.*"
   ]
  }
 ],
 "metadata": {
  "kernelspec": {
   "display_name": "Python 3",
   "language": "python",
   "name": "python3"
  },
  "language_info": {
   "codemirror_mode": {
    "name": "ipython",
    "version": 3
   },
   "file_extension": ".py",
   "mimetype": "text/x-python",
   "name": "python",
   "nbconvert_exporter": "python",
   "pygments_lexer": "ipython3",
   "version": "3.7.12"
  },
  "papermill": {
   "default_parameters": {},
   "duration": 21.06827,
   "end_time": "2022-02-27T17:58:29.278786",
   "environment_variables": {},
   "exception": null,
   "input_path": "__notebook__.ipynb",
   "output_path": "__notebook__.ipynb",
   "parameters": {},
   "start_time": "2022-02-27T17:58:08.210516",
   "version": "2.3.3"
  }
 },
 "nbformat": 4,
 "nbformat_minor": 5
}
